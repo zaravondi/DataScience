{
 "cells": [
  {
   "cell_type": "code",
   "execution_count": 1,
   "metadata": {},
   "outputs": [
    {
     "name": "stdout",
     "output_type": "stream",
     "text": [
      "Enter your annual salary:  120000\n",
      "Enter the percent of your salary to save, as a decimal:.10\n",
      "Enter the cost of your dream home: 1000000\n",
      "\u001b[34mPart A result required number of months for down payment\n",
      "\u001b[34mNumber of months =  183\n"
     ]
    }
   ],
   "source": [
    "#partA answer\n",
    "portion_down_payment =0.25\n",
    "r = 0.04  # annual rate\n",
    "B  = '\\033[34m' # blue color\n",
    "\n",
    "\n",
    "annual_salary = float(input(B+\"Enter your annual salary: \"))\n",
    "portion_saved = float(input(B+\"Enter the percent of your salary to save, as a decimal:\"))\n",
    "total_cost =float(input(B+\"Enter the cost of your dream home:\"))\n",
    "num_of_months=1\n",
    "monthly_salary =annual_salary/12\n",
    "down_payment=total_cost*portion_down_payment\n",
    "monthly_saved_salary=monthly_salary*portion_saved\n",
    "current_savings=monthly_saved_salary\n",
    "\n",
    "#PARTA:House Hunting\n",
    "while (current_savings < down_payment):\n",
    "    current_savings=current_savings+(current_savings*r)/12\n",
    "    current_savings=current_savings+monthly_saved_salary\n",
    "    num_of_months=num_of_months+1\n",
    "    \n",
    "print(B+\"Part A result required number of months for down payment\")  \n",
    "print(B+\"Number of months = \",num_of_months)         \n",
    "    "
   ]
  },
  {
   "cell_type": "code",
   "execution_count": 2,
   "metadata": {},
   "outputs": [
    {
     "name": "stdout",
     "output_type": "stream",
     "text": [
      "Enter your starting annual salary:  120000\n",
      "Enter the percent of your salary to save, as a decimal:.05\n",
      "Enter the cost of your dream home:500000\n",
      "Enter the semi­annual raise, as a decimal: .03\n",
      "\u001b[34mNumber of months =  142\n"
     ]
    }
   ],
   "source": [
    "#partB answer\n",
    "portion_down_payment =0.25\n",
    "r = 0.04  # annual rate\n",
    "B  = '\\033[34m' # blue color\n",
    "num_of_months=1\n",
    "\n",
    "annual_salary = float(input(B+\"Enter your starting annual salary: \"))\n",
    "portion_saved = float(input(B+\"Enter the percent of your salary to save, as a decimal:\"))\n",
    "total_cost =float(input(B+\"Enter the cost of your dream home:\"))\n",
    "semi_annual_raise=float(input(B+\"Enter the semi­annual raise, as a decimal: \"))\n",
    "\n",
    "down_payment=total_cost*portion_down_payment\n",
    "monthly_salary =annual_salary/12\n",
    "current_savings=monthly_salary*portion_saved\n",
    "\n",
    "\n",
    "while (current_savings < down_payment):\n",
    "    current_savings=current_savings+(current_savings*r)/12\n",
    "    if(num_of_months % 6 == 0):\n",
    "        monthly_salary=monthly_salary+monthly_salary*semi_annual_raise\n",
    "    \n",
    "    current_savings=current_savings+monthly_salary*portion_saved\n",
    "    num_of_months=num_of_months+1\n",
    "      \n",
    "print(B+\"Number of months = \",num_of_months)         "
   ]
  },
  {
   "cell_type": "code",
   "execution_count": 5,
   "metadata": {},
   "outputs": [
    {
     "name": "stdout",
     "output_type": "stream",
     "text": [
      "Enter the starting salary:  300000\n",
      "Down Payment: 250000.0\n",
      "Rate: 0.220628125\n",
      "Iterations: 8\n"
     ]
    }
   ],
   "source": [
    "#Part C: Finding the right amount to save away\n",
    "B  = '\\033[34m' # blue color text\n",
    "total_cost =1000000\n",
    "portion_down_payment =0.25\n",
    "down_payment=total_cost*portion_down_payment\n",
    "r = 0.04  # annual rate\n",
    "semi_annual_raise=0.07\n",
    "monthLimit = 36\n",
    "\n",
    "# Range\n",
    "min = 0\n",
    "max = 10000\n",
    "\n",
    "# Counters\n",
    "monthCounter = 0\n",
    "stepCounter = 0 \n",
    "\n",
    "annual_salary = float(input(B+\"Enter the starting salary: \"))\n",
    "starting_annual_salary = annual_salary\n",
    "current_savings=0\n",
    "savingsRate = 0.5 #portion_saved initialize with random number  \n",
    "\n",
    "\n",
    "\n",
    "def initializeParameter(stepCounter):\n",
    "    global current_savings, annual_salary, monthCounter\n",
    "    monthCounter = 0\n",
    "    current_savings = 0\n",
    "    annual_salary = starting_annual_salary\n",
    "    stepCounter =stepCounter +1\n",
    "    return stepCounter\n",
    "      \n",
    "\n",
    "def computeRate(lower, upper):\n",
    "    #while abs(lower-upper)>0:\n",
    "    global current_savings, annual_salary, monthCounter, max, min, stepCounter,savingsRate\n",
    "    while (current_savings < down_payment):\n",
    "        savingsRate = ((upper+lower)/2)/10000\n",
    "        monthlySalary = annual_salary/12\n",
    "        monthlyCont = monthlySalary * savingsRate\n",
    "        monthlyReturn = current_savings * r/12\n",
    "        current_savings = current_savings + monthlyCont + monthlyReturn\n",
    "        monthCounter = monthCounter+ 1\n",
    "        if monthCounter % 6 == 0:\n",
    "            annual_salary = annual_salary + (annual_salary*semi_annual_raise)\n",
    "    if monthCounter > monthLimit:\n",
    "        stepCounter =initializeParameter(stepCounter)\n",
    "        min = savingsRate*10000\n",
    "        computeRate(min, max)\n",
    "    elif monthCounter < monthLimit:  \n",
    "        stepCounter =initializeParameter(stepCounter)\n",
    "        max = savingsRate * 10000\n",
    "        computeRate(min, max)\n",
    "    elif current_savings > down_payment + 100: \n",
    "        stepCounter =initializeParameter(stepCounter)\n",
    "        max = (savingsRate * 10000)-1\n",
    "        computeRate(min, max)\n",
    "    elif current_savings < down_payment - 100:  \n",
    "        stepCounter =initializeParameter(stepCounter)\n",
    "        max = (savingsRate * 10000)+1\n",
    "        computeRate(min, max)\n",
    "\n",
    "\n",
    "computeRate(min, max)\n",
    "print(\"Down Payment:\", down_payment)\n",
    "print(\"Rate:\", savingsRate)\n",
    "print(\"Iterations:\", stepCounter)\n"
   ]
  }
 ],
 "metadata": {
  "kernelspec": {
   "display_name": "Python 3",
   "language": "python",
   "name": "python3"
  },
  "language_info": {
   "codemirror_mode": {
    "name": "ipython",
    "version": 3
   },
   "file_extension": ".py",
   "mimetype": "text/x-python",
   "name": "python",
   "nbconvert_exporter": "python",
   "pygments_lexer": "ipython3",
   "version": "3.7.4"
  }
 },
 "nbformat": 4,
 "nbformat_minor": 2
}
