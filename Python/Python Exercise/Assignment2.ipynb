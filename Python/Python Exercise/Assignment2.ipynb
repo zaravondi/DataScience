{
 "cells": [
  {
   "cell_type": "code",
   "execution_count": 5,
   "metadata": {},
   "outputs": [
    {
     "name": "stdout",
     "output_type": "stream",
     "text": [
      "Enter number x: 3\n",
      "Enter number y: 2\n",
      "\u001b[34mx**y =  9.0\n",
      "\u001b[34mlog(x)= 1.584962500721156\n"
     ]
    }
   ],
   "source": [
    "#!/usr/bin/env python3\n",
    "# -*- coding: utf-8 -*-\n",
    "\"\"\"\n",
    "Created on Sat Aug 15 11:55:21 2020\n",
    "\n",
    "@author: betulyazici\n",
    "\"\"\"\n",
    "import numpy as np \n",
    "B  = '\\033[34m' # blue color\n",
    "\n",
    "#PROBLEM SET0 ANSWER\n",
    "x = float(input(B+\"Enter number x: \"))\n",
    "#if allow only integer number use below code\n",
    "#x = int(input(B+\"Enter number x: \"))\n",
    "y = float(input(B+\"Enter number y: \"))\n",
    "pow_result=x**y\n",
    "print(B+\"x**y = \",pow_result)\n",
    "log_result = np.log2(x) #int(np.log2(x))\n",
    "print(B+\"log(x)=\",log_result)\n"
   ]
  },
  {
   "cell_type": "code",
   "execution_count": null,
   "metadata": {},
   "outputs": [],
   "source": []
  }
 ],
 "metadata": {
  "kernelspec": {
   "display_name": "Python 3",
   "language": "python",
   "name": "python3"
  },
  "language_info": {
   "codemirror_mode": {
    "name": "ipython",
    "version": 3
   },
   "file_extension": ".py",
   "mimetype": "text/x-python",
   "name": "python",
   "nbconvert_exporter": "python",
   "pygments_lexer": "ipython3",
   "version": "3.7.4"
  }
 },
 "nbformat": 4,
 "nbformat_minor": 2
}
