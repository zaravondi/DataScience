{
 "cells": [
  {
   "cell_type": "markdown",
   "metadata": {
    "colab_type": "text",
    "id": "gPUEHOdJF8RU"
   },
   "source": [
    "## Mini Project - European Soccer Dataset"
   ]
  },
  {
   "cell_type": "markdown",
   "metadata": {
    "colab_type": "text",
    "id": "jjVsF9jaF8RV"
   },
   "source": [
    "Veri setini Kaggle üzerinden indirebilirsiniz:\n",
    "https://www.kaggle.com/hugomathien/soccer"
   ]
  },
  {
   "cell_type": "code",
   "execution_count": 71,
   "metadata": {
    "colab": {},
    "colab_type": "code",
    "id": "viyyG80nF8RW"
   },
   "outputs": [],
   "source": [
    "#Paketler\n",
    "import sqlite3\n",
    "import pandas as pd\n",
    "import numpy as np\n",
    "import matplotlib.pyplot as plt\n",
    "import seaborn as sns"
   ]
  },
  {
   "cell_type": "markdown",
   "metadata": {
    "colab_type": "text",
    "id": "vBOvnahiF8RZ"
   },
   "source": [
    "#### Veri Okuma ve İlk Bakış"
   ]
  },
  {
   "cell_type": "code",
   "execution_count": 72,
   "metadata": {},
   "outputs": [],
   "source": [
    "#Sqlite uzantılı veri tabanı dosyasını python ile okumak:\n",
    "cnx = sqlite3.connect('database.sqlite')\n",
    "Player_Data = pd.read_sql_query(\"SELECT * FROM Player\", cnx)\n",
    "Player_Attributes = pd.read_sql_query(\"SELECT * FROM Player_Attributes\", cnx)\n",
    "\n",
    "#bu kısma dokunmayın."
   ]
  },
  {
   "cell_type": "markdown",
   "metadata": {
    "colab_type": "text",
    "id": "-gbqO1yrF8Rc"
   },
   "source": [
    "1. Player_Data'nın ve Player_Attributes'un ilk 5 satırını gösterin."
   ]
  },
  {
   "cell_type": "code",
   "execution_count": 73,
   "metadata": {
    "colab": {},
    "colab_type": "code",
    "id": "asbPyAVCF8Rc"
   },
   "outputs": [],
   "source": [
    "def showTopKData(data,k):\n",
    "    print(data.iloc[:k])"
   ]
  },
  {
   "cell_type": "code",
   "execution_count": 74,
   "metadata": {},
   "outputs": [
    {
     "name": "stdout",
     "output_type": "stream",
     "text": [
      "Player Data:\n",
      "   id  player_api_id         player_name  player_fifa_api_id  \\\n",
      "0   1         505942  Aaron Appindangoye              218353   \n",
      "1   2         155782     Aaron Cresswell              189615   \n",
      "2   3         162549         Aaron Doran              186170   \n",
      "3   4          30572       Aaron Galindo              140161   \n",
      "4   5          23780        Aaron Hughes               17725   \n",
      "\n",
      "              birthday  height  weight  \n",
      "0  1992-02-29 00:00:00  182.88     187  \n",
      "1  1989-12-15 00:00:00  170.18     146  \n",
      "2  1991-05-13 00:00:00  170.18     163  \n",
      "3  1982-05-08 00:00:00  182.88     198  \n",
      "4  1979-11-08 00:00:00  182.88     154  \n",
      "Player Attributes Data:\n",
      "   id  player_fifa_api_id  player_api_id                 date  overall_rating  \\\n",
      "0   1              218353         505942  2016-02-18 00:00:00            67.0   \n",
      "1   2              218353         505942  2015-11-19 00:00:00            67.0   \n",
      "2   3              218353         505942  2015-09-21 00:00:00            62.0   \n",
      "3   4              218353         505942  2015-03-20 00:00:00            61.0   \n",
      "4   5              218353         505942  2007-02-22 00:00:00            61.0   \n",
      "\n",
      "   potential preferred_foot attacking_work_rate defensive_work_rate  crossing  \\\n",
      "0       71.0          right              medium              medium      49.0   \n",
      "1       71.0          right              medium              medium      49.0   \n",
      "2       66.0          right              medium              medium      49.0   \n",
      "3       65.0          right              medium              medium      48.0   \n",
      "4       65.0          right              medium              medium      48.0   \n",
      "\n",
      "   ...  vision  penalties  marking  standing_tackle  sliding_tackle  \\\n",
      "0  ...    54.0       48.0     65.0             69.0            69.0   \n",
      "1  ...    54.0       48.0     65.0             69.0            69.0   \n",
      "2  ...    54.0       48.0     65.0             66.0            69.0   \n",
      "3  ...    53.0       47.0     62.0             63.0            66.0   \n",
      "4  ...    53.0       47.0     62.0             63.0            66.0   \n",
      "\n",
      "   gk_diving  gk_handling  gk_kicking  gk_positioning  gk_reflexes  \n",
      "0        6.0         11.0        10.0             8.0          8.0  \n",
      "1        6.0         11.0        10.0             8.0          8.0  \n",
      "2        6.0         11.0        10.0             8.0          8.0  \n",
      "3        5.0         10.0         9.0             7.0          7.0  \n",
      "4        5.0         10.0         9.0             7.0          7.0  \n",
      "\n",
      "[5 rows x 42 columns]\n"
     ]
    }
   ],
   "source": [
    "#Player_Data'nın ve Player_Attributes'un ilk 5 satırını gösterilmesi\n",
    "print('Player Data:')\n",
    "showTopKData(Player_Data,5)\n",
    "print('Player Attributes Data:')\n",
    "showTopKData(Player_Attributes,5)"
   ]
  },
  {
   "cell_type": "markdown",
   "metadata": {
    "colab_type": "text",
    "id": "msMX5bL4F8Re"
   },
   "source": [
    "2. Player_Data'nın ve Player_Attributes'un her kolonunun veri tipini (Dtype) ve her kolondaki eksik eleman sayısını (null-count) birer tablo içerisinde gösterin. "
   ]
  },
  {
   "cell_type": "code",
   "execution_count": 75,
   "metadata": {
    "colab": {},
    "colab_type": "code",
    "id": "3-ugjyuEF8Re"
   },
   "outputs": [],
   "source": [
    "def showDataType(data):\n",
    "    print(data.dtypes)"
   ]
  },
  {
   "cell_type": "code",
   "execution_count": 76,
   "metadata": {},
   "outputs": [],
   "source": [
    "def getMissingColumnsCount(data):\n",
    "     #print(pd.DataFrame(data, columns = list(data.columns)).isnull().sum())\n",
    "    new_Data=pd.DataFrame(data, columns = list(data.columns)).isnull()\n",
    "    column_missing_dict = {}\n",
    "    for i in range(len(data.columns)) : \n",
    "        total_missing_column=0\n",
    "        for j in range(len(data)):\n",
    "            if(new_Data.iloc[j, i] == True):\n",
    "                total_missing_column=total_missing_column+1   \n",
    "        column_missing_dict[list(data.columns)[i]]= total_missing_column     \n",
    "    print(column_missing_dict) \n",
    "    return column_missing_dict"
   ]
  },
  {
   "cell_type": "code",
   "execution_count": 77,
   "metadata": {},
   "outputs": [
    {
     "name": "stdout",
     "output_type": "stream",
     "text": [
      "shows player data frame every columns data type\n",
      "id                      int64\n",
      "player_api_id           int64\n",
      "player_name            object\n",
      "player_fifa_api_id      int64\n",
      "birthday               object\n",
      "height                float64\n",
      "weight                  int64\n",
      "dtype: object\n",
      "shows Player_Attributes data frame every columns data type\n",
      "id                       int64\n",
      "player_fifa_api_id       int64\n",
      "player_api_id            int64\n",
      "date                    object\n",
      "overall_rating         float64\n",
      "potential              float64\n",
      "preferred_foot          object\n",
      "attacking_work_rate     object\n",
      "defensive_work_rate     object\n",
      "crossing               float64\n",
      "finishing              float64\n",
      "heading_accuracy       float64\n",
      "short_passing          float64\n",
      "volleys                float64\n",
      "dribbling              float64\n",
      "curve                  float64\n",
      "free_kick_accuracy     float64\n",
      "long_passing           float64\n",
      "ball_control           float64\n",
      "acceleration           float64\n",
      "sprint_speed           float64\n",
      "agility                float64\n",
      "reactions              float64\n",
      "balance                float64\n",
      "shot_power             float64\n",
      "jumping                float64\n",
      "stamina                float64\n",
      "strength               float64\n",
      "long_shots             float64\n",
      "aggression             float64\n",
      "interceptions          float64\n",
      "positioning            float64\n",
      "vision                 float64\n",
      "penalties              float64\n",
      "marking                float64\n",
      "standing_tackle        float64\n",
      "sliding_tackle         float64\n",
      "gk_diving              float64\n",
      "gk_handling            float64\n",
      "gk_kicking             float64\n",
      "gk_positioning         float64\n",
      "gk_reflexes            float64\n",
      "dtype: object\n",
      "missing columns count for Player_Data\n",
      "{'id': 0, 'player_api_id': 0, 'player_name': 0, 'player_fifa_api_id': 0, 'birthday': 0, 'height': 0, 'weight': 0}\n",
      "missing columns count for Player_Attributes\n",
      "{'id': 0, 'player_fifa_api_id': 0, 'player_api_id': 0, 'date': 0, 'overall_rating': 836, 'potential': 836, 'preferred_foot': 836, 'attacking_work_rate': 3230, 'defensive_work_rate': 836, 'crossing': 836, 'finishing': 836, 'heading_accuracy': 836, 'short_passing': 836, 'volleys': 2713, 'dribbling': 836, 'curve': 2713, 'free_kick_accuracy': 836, 'long_passing': 836, 'ball_control': 836, 'acceleration': 836, 'sprint_speed': 836, 'agility': 2713, 'reactions': 836, 'balance': 2713, 'shot_power': 836, 'jumping': 2713, 'stamina': 836, 'strength': 836, 'long_shots': 836, 'aggression': 836, 'interceptions': 836, 'positioning': 836, 'vision': 2713, 'penalties': 836, 'marking': 836, 'standing_tackle': 836, 'sliding_tackle': 2713, 'gk_diving': 836, 'gk_handling': 836, 'gk_kicking': 836, 'gk_positioning': 836, 'gk_reflexes': 836}\n"
     ]
    },
    {
     "data": {
      "text/plain": [
       "{'id': 0,\n",
       " 'player_fifa_api_id': 0,\n",
       " 'player_api_id': 0,\n",
       " 'date': 0,\n",
       " 'overall_rating': 836,\n",
       " 'potential': 836,\n",
       " 'preferred_foot': 836,\n",
       " 'attacking_work_rate': 3230,\n",
       " 'defensive_work_rate': 836,\n",
       " 'crossing': 836,\n",
       " 'finishing': 836,\n",
       " 'heading_accuracy': 836,\n",
       " 'short_passing': 836,\n",
       " 'volleys': 2713,\n",
       " 'dribbling': 836,\n",
       " 'curve': 2713,\n",
       " 'free_kick_accuracy': 836,\n",
       " 'long_passing': 836,\n",
       " 'ball_control': 836,\n",
       " 'acceleration': 836,\n",
       " 'sprint_speed': 836,\n",
       " 'agility': 2713,\n",
       " 'reactions': 836,\n",
       " 'balance': 2713,\n",
       " 'shot_power': 836,\n",
       " 'jumping': 2713,\n",
       " 'stamina': 836,\n",
       " 'strength': 836,\n",
       " 'long_shots': 836,\n",
       " 'aggression': 836,\n",
       " 'interceptions': 836,\n",
       " 'positioning': 836,\n",
       " 'vision': 2713,\n",
       " 'penalties': 836,\n",
       " 'marking': 836,\n",
       " 'standing_tackle': 836,\n",
       " 'sliding_tackle': 2713,\n",
       " 'gk_diving': 836,\n",
       " 'gk_handling': 836,\n",
       " 'gk_kicking': 836,\n",
       " 'gk_positioning': 836,\n",
       " 'gk_reflexes': 836}"
      ]
     },
     "execution_count": 77,
     "metadata": {},
     "output_type": "execute_result"
    }
   ],
   "source": [
    "print('shows player data frame every columns data type')\n",
    "showDataType(Player_Data)\n",
    "print('shows Player_Attributes data frame every columns data type')\n",
    "showDataType(Player_Attributes)\n",
    "print('missing columns count for Player_Data')\n",
    "getMissingColumnsCount(Player_Data)\n",
    "print('missing columns count for Player_Attributes')\n",
    "getMissingColumnsCount(Player_Attributes)"
   ]
  },
  {
   "cell_type": "markdown",
   "metadata": {
    "colab_type": "text",
    "id": "YcDRjlyRF8Rg"
   },
   "source": [
    "3. Player_Data'nın ve Player_Attributes'un her kolonunun satır sayısı (count), kolon ortalaması (mean), standart sapma (std), min, max ve percentile (.25, .5, .75) değerlerini bir tablo içerisinde gösterin."
   ]
  },
  {
   "cell_type": "code",
   "execution_count": 78,
   "metadata": {},
   "outputs": [],
   "source": [
    "def quantileDataInfo(data,perc):\n",
    "    print(\"Shows each column of percentile:\", end =str(perc))\n",
    "    print()\n",
    "    print(data.quantile(perc, axis = 0))\n",
    "    "
   ]
  },
  {
   "cell_type": "code",
   "execution_count": 79,
   "metadata": {},
   "outputs": [],
   "source": [
    "def istatisticalDataInformation(data):\n",
    "    print(\"Number of rows:\", end =str(len(data)))\n",
    "    print()\n",
    "    print(\"Number of columns:\", end =str(len(data.columns)))\n",
    "    print()\n",
    "    print(\"Mean of each columns\")\n",
    "    print(data.mean(axis = 0))\n",
    "    print()\n",
    "    print(\"Standard deviation of each columns\")\n",
    "    print(data.std(axis = 0, skipna = True))\n",
    "    print()\n",
    "    print(\"Shows the max of each column:\")\n",
    "    print(data.max()) \n",
    "    print()\n",
    "    print(\"Shows the min of each column:\")\n",
    "    print(data.min()) \n",
    "    print()\n",
    "    quantileDataInfo(data,.25)\n",
    "    quantileDataInfo(data,.5)\n",
    "    quantileDataInfo(data,.75)    "
   ]
  },
  {
   "cell_type": "code",
   "execution_count": 80,
   "metadata": {
    "colab": {},
    "colab_type": "code",
    "id": "b8WA-pwNF8Rh"
   },
   "outputs": [
    {
     "name": "stdout",
     "output_type": "stream",
     "text": [
      "Number of rows:11060\n",
      "Number of columns:7\n",
      "Mean of each columns\n",
      "id                      5537.511392\n",
      "player_api_id         156582.427215\n",
      "player_fifa_api_id    165664.910488\n",
      "height                   181.867445\n",
      "weight                   168.380289\n",
      "dtype: float64\n",
      "\n",
      "Standard deviation of each columns\n",
      "id                      3197.692647\n",
      "player_api_id         160713.700624\n",
      "player_fifa_api_id     58649.928360\n",
      "height                     6.369201\n",
      "weight                    14.990217\n",
      "dtype: float64\n",
      "\n",
      "Shows the max of each column:\n",
      "id                                      11075\n",
      "player_api_id                          750584\n",
      "player_name           dos Santos Fabio Junior\n",
      "player_fifa_api_id                     234141\n",
      "birthday                  1999-04-24 00:00:00\n",
      "height                                 208.28\n",
      "weight                                    243\n",
      "dtype: object\n",
      "\n",
      "Shows the min of each column:\n",
      "id                                      1\n",
      "player_api_id                        2625\n",
      "player_name            Aaron Appindangoye\n",
      "player_fifa_api_id                      2\n",
      "birthday              1967-01-23 00:00:00\n",
      "height                             157.48\n",
      "weight                                117\n",
      "dtype: object\n",
      "\n",
      "Shows each column of percentile:0.25\n",
      "id                      2767.75\n",
      "player_api_id          35555.50\n",
      "player_fifa_api_id    151889.50\n",
      "height                   177.80\n",
      "weight                   159.00\n",
      "Name: 0.25, dtype: float64\n",
      "Shows each column of percentile:0.5\n",
      "id                      5536.50\n",
      "player_api_id          96619.50\n",
      "player_fifa_api_id    184671.00\n",
      "height                   182.88\n",
      "weight                   168.00\n",
      "Name: 0.5, dtype: float64\n",
      "Shows each column of percentile:0.75\n",
      "id                      8306.25\n",
      "player_api_id         212470.50\n",
      "player_fifa_api_id    203883.25\n",
      "height                   185.42\n",
      "weight                   179.00\n",
      "Name: 0.75, dtype: float64\n"
     ]
    }
   ],
   "source": [
    "#answer of problem 3:\n",
    "istatisticalDataInformation(Player_Data)\n",
    "#istatisticalDataInformation(Player_Attributes)"
   ]
  },
  {
   "cell_type": "markdown",
   "metadata": {
    "colab_type": "text",
    "id": "VhXG0R8_F8Rj"
   },
   "source": [
    "#### Veri Düzenleme & Temizleme"
   ]
  },
  {
   "cell_type": "markdown",
   "metadata": {
    "colab_type": "text",
    "id": "DmY2xYE5F8Rj"
   },
   "source": [
    "4. Player_Data'daki \"birthday\" kolonunu Pandas'ın datetime biçimine çevirin ve yeni bir kolon olarak bu tabloya ekleyin. Tablonun son halinin ilk 5 satırını gösterin."
   ]
  },
  {
   "cell_type": "code",
   "execution_count": 81,
   "metadata": {
    "colab": {},
    "colab_type": "code",
    "id": "SykBJlzPF8Rj"
   },
   "outputs": [],
   "source": [
    "def ConvertPandasDateTime(data,existingColumnName,newColumnName):\n",
    "    # soru: aşağıdaki şekilde çalışmadı generic yazmak için kullanacaktım sebebi hakkında bilgi verebilirseniz sevinirim.\n",
    "    #aşağıdakini çalıştıramadıgm için if koşulu yazarak durumu ayrıştırdım.\n",
    "    #data[newColumnName]=data.apply(lambda row: pd.to_datetime(row.existingColumnName),axis=1)\n",
    "    if newColumnName == 'date_datetime':\n",
    "        data[newColumnName]=data.apply(lambda row: pd.to_datetime(row.date),axis=1)\n",
    "    else:\n",
    "        data[newColumnName]=data.apply(lambda row: pd.to_datetime(row.birthday),axis=1)\n"
   ]
  },
  {
   "cell_type": "code",
   "execution_count": 82,
   "metadata": {
    "scrolled": true
   },
   "outputs": [
    {
     "name": "stdout",
     "output_type": "stream",
     "text": [
      "   id  player_api_id         player_name  player_fifa_api_id  \\\n",
      "0   1         505942  Aaron Appindangoye              218353   \n",
      "1   2         155782     Aaron Cresswell              189615   \n",
      "2   3         162549         Aaron Doran              186170   \n",
      "3   4          30572       Aaron Galindo              140161   \n",
      "4   5          23780        Aaron Hughes               17725   \n",
      "\n",
      "              birthday  height  weight birthday_datetime  \n",
      "0  1992-02-29 00:00:00  182.88     187        1992-02-29  \n",
      "1  1989-12-15 00:00:00  170.18     146        1989-12-15  \n",
      "2  1991-05-13 00:00:00  170.18     163        1991-05-13  \n",
      "3  1982-05-08 00:00:00  182.88     198        1982-05-08  \n",
      "4  1979-11-08 00:00:00  182.88     154        1979-11-08  \n",
      "   id  player_fifa_api_id  player_api_id                 date  overall_rating  \\\n",
      "0   1              218353         505942  2016-02-18 00:00:00            67.0   \n",
      "1   2              218353         505942  2015-11-19 00:00:00            67.0   \n",
      "2   3              218353         505942  2015-09-21 00:00:00            62.0   \n",
      "3   4              218353         505942  2015-03-20 00:00:00            61.0   \n",
      "4   5              218353         505942  2007-02-22 00:00:00            61.0   \n",
      "\n",
      "   potential preferred_foot attacking_work_rate defensive_work_rate  crossing  \\\n",
      "0       71.0          right              medium              medium      49.0   \n",
      "1       71.0          right              medium              medium      49.0   \n",
      "2       66.0          right              medium              medium      49.0   \n",
      "3       65.0          right              medium              medium      48.0   \n",
      "4       65.0          right              medium              medium      48.0   \n",
      "\n",
      "   ...  penalties  marking  standing_tackle  sliding_tackle  gk_diving  \\\n",
      "0  ...       48.0     65.0             69.0            69.0        6.0   \n",
      "1  ...       48.0     65.0             69.0            69.0        6.0   \n",
      "2  ...       48.0     65.0             66.0            69.0        6.0   \n",
      "3  ...       47.0     62.0             63.0            66.0        5.0   \n",
      "4  ...       47.0     62.0             63.0            66.0        5.0   \n",
      "\n",
      "   gk_handling  gk_kicking  gk_positioning  gk_reflexes  date_datetime  \n",
      "0         11.0        10.0             8.0          8.0     2016-02-18  \n",
      "1         11.0        10.0             8.0          8.0     2015-11-19  \n",
      "2         11.0        10.0             8.0          8.0     2015-09-21  \n",
      "3         10.0         9.0             7.0          7.0     2015-03-20  \n",
      "4         10.0         9.0             7.0          7.0     2007-02-22  \n",
      "\n",
      "[5 rows x 43 columns]\n"
     ]
    }
   ],
   "source": [
    "ConvertPandasDateTime(Player_Attributes,\"date\",'date_datetime')\n",
    "ConvertPandasDateTime(Player_Data,\"birthday\",'birthday_datetime')\n",
    "showTopKData(Player_Data,5)\n",
    "showTopKData(Player_Attributes,5)"
   ]
  },
  {
   "cell_type": "markdown",
   "metadata": {
    "colab_type": "text",
    "id": "-_CdrMVcF8Rm"
   },
   "source": [
    "5. Player_Data tablosundaki date (pandas datetime tipindeki) ve birthday kolonlarını kullanarak \"age\" kolonu ekleyin."
   ]
  },
  {
   "cell_type": "code",
   "execution_count": 83,
   "metadata": {},
   "outputs": [],
   "source": [
    "#Player_Attributes yada Player_Data tablosunda date ve birthday alanı birlikte değil\n",
    "#date Player_Attributes tablosunda birthday Player_Data tablosunda player_api_id'ye göre mapping yaptıktan sonra\n",
    "#age alanını düzelttim.Bu metodda şuanki yaşını buldum. İleride age kısmını istediginiz şekilde düzelttim.\n",
    "def calculateAndAddAge(data):\n",
    "    #data['age']=data.apply(lambda row: (pd.to_datetime(row.date_datetime)-pd.to_datetime(row.birthday)),axis=1).astype('<m8[Y]')  \n",
    "    data['age']=data.apply(lambda row: (pd.Timestamp('now')-pd.to_datetime(row.birthday_datetime)),axis=1).astype('<m8[Y]')  \n",
    "    print(data)\n",
    "    "
   ]
  },
  {
   "cell_type": "code",
   "execution_count": 84,
   "metadata": {},
   "outputs": [
    {
     "name": "stdout",
     "output_type": "stream",
     "text": [
      "          id  player_api_id          player_name  player_fifa_api_id  \\\n",
      "0          1         505942   Aaron Appindangoye              218353   \n",
      "1          2         155782      Aaron Cresswell              189615   \n",
      "2          3         162549          Aaron Doran              186170   \n",
      "3          4          30572        Aaron Galindo              140161   \n",
      "4          5          23780         Aaron Hughes               17725   \n",
      "...      ...            ...                  ...                 ...   \n",
      "11055  11071          26357       Zoumana Camara                2488   \n",
      "11056  11072         111182         Zsolt Laczko              164680   \n",
      "11057  11073          36491            Zsolt Low              111191   \n",
      "11058  11074          35506  Zurab Khizanishvili               47058   \n",
      "11059  11075          39902   Zvjezdan Misimovic              102359   \n",
      "\n",
      "                  birthday  height  weight birthday_datetime   age  \n",
      "0      1992-02-29 00:00:00  182.88     187        1992-02-29  28.0  \n",
      "1      1989-12-15 00:00:00  170.18     146        1989-12-15  30.0  \n",
      "2      1991-05-13 00:00:00  170.18     163        1991-05-13  29.0  \n",
      "3      1982-05-08 00:00:00  182.88     198        1982-05-08  38.0  \n",
      "4      1979-11-08 00:00:00  182.88     154        1979-11-08  40.0  \n",
      "...                    ...     ...     ...               ...   ...  \n",
      "11055  1979-04-03 00:00:00  182.88     168        1979-04-03  41.0  \n",
      "11056  1986-12-18 00:00:00  182.88     176        1986-12-18  33.0  \n",
      "11057  1979-04-29 00:00:00  180.34     154        1979-04-29  41.0  \n",
      "11058  1981-10-06 00:00:00  185.42     172        1981-10-06  38.0  \n",
      "11059  1982-06-05 00:00:00  180.34     176        1982-06-05  38.0  \n",
      "\n",
      "[11060 rows x 9 columns]\n"
     ]
    }
   ],
   "source": [
    "calculateAndAddAge(Player_Data)"
   ]
  },
  {
   "cell_type": "markdown",
   "metadata": {
    "colab_type": "text",
    "id": "3Fzr82uXF8Ro"
   },
   "source": [
    "6. Player_Data'daki Ağırlık ve Boy kolonlarını kullanarak vücut kitle endeksini (BMI) hesaplayın ve yeni bir kolon olarak ekleyin. Verinin son halinin ilk 5 satırını gösterin."
   ]
  },
  {
   "cell_type": "code",
   "execution_count": 85,
   "metadata": {
    "colab": {},
    "colab_type": "code",
    "id": "80p1UTWaF8Ro"
   },
   "outputs": [],
   "source": [
    "def calculateBMI(data):\n",
    "    data['BMI'] = data.apply(lambda x: (x.weight/x.height**2), axis=1)\n",
    "    showTopKData(data,5)"
   ]
  },
  {
   "cell_type": "code",
   "execution_count": 86,
   "metadata": {},
   "outputs": [
    {
     "name": "stdout",
     "output_type": "stream",
     "text": [
      "   id  player_api_id         player_name  player_fifa_api_id  \\\n",
      "0   1         505942  Aaron Appindangoye              218353   \n",
      "1   2         155782     Aaron Cresswell              189615   \n",
      "2   3         162549         Aaron Doran              186170   \n",
      "3   4          30572       Aaron Galindo              140161   \n",
      "4   5          23780        Aaron Hughes               17725   \n",
      "\n",
      "              birthday  height  weight birthday_datetime   age       BMI  \n",
      "0  1992-02-29 00:00:00  182.88     187        1992-02-29  28.0  0.005591  \n",
      "1  1989-12-15 00:00:00  170.18     146        1989-12-15  30.0  0.005041  \n",
      "2  1991-05-13 00:00:00  170.18     163        1991-05-13  29.0  0.005628  \n",
      "3  1982-05-08 00:00:00  182.88     198        1982-05-08  38.0  0.005920  \n",
      "4  1979-11-08 00:00:00  182.88     154        1979-11-08  40.0  0.004605  \n"
     ]
    }
   ],
   "source": [
    "calculateBMI(Player_Data)"
   ]
  },
  {
   "cell_type": "markdown",
   "metadata": {
    "colab_type": "text",
    "id": "VmMRo5QNF8Rq"
   },
   "source": [
    "7. Kolonlardaki eksik eleman sayılarını kontrol edip eksik hücreleri ilgili kolonun ortalaması ile dolduran veya eksik hücre içeren satırları silen bir fonksiyon yazın. Bu fonksiyon, eğer kolondaki eksik hücre sayısı toplam uzunluğun %10'undan küçük ise (bu değer değişken olarak fonksiyona verilebilmelidir), eksik elemanları doldurur; değilse ilgili satırı siler. Sonuç olarak da kaç satırı sildiğini veya ortalama ile doldurduğunu print eder. Fonksiyon içerisinde gerekli kontroller yapılmalı ve conditionlara bağlı olarak gereken aksiyonlar gerçekleştirilmelidir. Fonksiyonun çalışmasından sonra elde edilen yeni veri setinin uzunluğu orijinal veri setinin yüzde kaçına denk geliyor, print edin. "
   ]
  },
  {
   "cell_type": "code",
   "execution_count": 87,
   "metadata": {},
   "outputs": [],
   "source": [
    "def fillMissingValueWithMean(data,i):\n",
    "    new_Data=pd.DataFrame(data, columns = list(data.columns)).isnull()\n",
    "    if(data.iloc[:,i].dtype == 'float64'):\n",
    "        mean_value=data.iloc[:,i].mean()\n",
    "    else:\n",
    "        mean_value=data.iloc[:,i][0]\n",
    "    for j in range(len(data)):\n",
    "        if(new_Data.iloc[j, i] == True): \n",
    "            data.iloc[j, i]=mean_value            \n",
    "    print(\"After missing value operation mean value:\", end =str(mean_value))\n",
    "    print()\n",
    "    return data"
   ]
  },
  {
   "cell_type": "code",
   "execution_count": 88,
   "metadata": {},
   "outputs": [],
   "source": [
    "def deleteMissingValue(data,i):\n",
    "    new_Data=pd.DataFrame(data, columns = list(data.columns)).isnull()\n",
    "    deleted_number=0\n",
    "    for j in range(len(data)):\n",
    "        if(new_Data.iloc[j, i] == True):\n",
    "            data.drop([data.index[j]])\n",
    "            deleted_number=deleted_number+1\n",
    "    print(\"After missing value operation number of deleted rows:\", end =str(deleted_number))     \n",
    "    print()\n",
    "    return data    "
   ]
  },
  {
   "cell_type": "code",
   "execution_count": 89,
   "metadata": {
    "colab": {},
    "colab_type": "code",
    "id": "iWY5GC1zF8Rq"
   },
   "outputs": [],
   "source": [
    "def preprocessOperation(data,percentage,column_missing_dict):\n",
    "    total_length=len(data)\n",
    "\n",
    "    for i in range(len(data.columns)):\n",
    "        if( column_missing_dict[data.columns[i]] != 0 and\n",
    "            column_missing_dict[data.columns[i]] /total_length *100 < total_length*percentage):\n",
    "            data=fillMissingValueWithMean(data,i)\n",
    "        elif(column_missing_dict[data.columns[i]] != 0 and \n",
    "             (column_missing_dict[data.columns[i]] /total_length)*100 >= total_length*percentage):\n",
    "            data=deleteMissingValue(data,i)\n",
    "    print(data)    \n",
    "    return data"
   ]
  },
  {
   "cell_type": "code",
   "execution_count": 90,
   "metadata": {
    "scrolled": true
   },
   "outputs": [
    {
     "name": "stdout",
     "output_type": "stream",
     "text": [
      "{'id': 0, 'player_fifa_api_id': 0, 'player_api_id': 0, 'date': 0, 'overall_rating': 836, 'potential': 836, 'preferred_foot': 836, 'attacking_work_rate': 3230, 'defensive_work_rate': 836, 'crossing': 836, 'finishing': 836, 'heading_accuracy': 836, 'short_passing': 836, 'volleys': 2713, 'dribbling': 836, 'curve': 2713, 'free_kick_accuracy': 836, 'long_passing': 836, 'ball_control': 836, 'acceleration': 836, 'sprint_speed': 836, 'agility': 2713, 'reactions': 836, 'balance': 2713, 'shot_power': 836, 'jumping': 2713, 'stamina': 836, 'strength': 836, 'long_shots': 836, 'aggression': 836, 'interceptions': 836, 'positioning': 836, 'vision': 2713, 'penalties': 836, 'marking': 836, 'standing_tackle': 836, 'sliding_tackle': 2713, 'gk_diving': 836, 'gk_handling': 836, 'gk_kicking': 836, 'gk_positioning': 836, 'gk_reflexes': 836, 'date_datetime': 0}\n",
      "After missing value operation mean value:68.6000152886831\n",
      "After missing value operation mean value:73.46035316857957\n",
      "After missing value operation mean value:right\n",
      "After missing value operation mean value:medium\n",
      "After missing value operation mean value:medium\n",
      "After missing value operation mean value:55.0868834019504\n",
      "After missing value operation mean value:49.92107763374867\n",
      "After missing value operation mean value:57.26602308591148\n",
      "After missing value operation mean value:62.42967205774754\n",
      "After missing value operation mean value:49.46843571566491\n",
      "After missing value operation mean value:59.17515370586758\n",
      "After missing value operation mean value:52.9656745648636\n",
      "After missing value operation mean value:49.38095030085944\n",
      "After missing value operation mean value:57.06988020224744\n",
      "After missing value operation mean value:63.388878575094736\n",
      "After missing value operation mean value:67.6593572200806\n",
      "After missing value operation mean value:68.05124438959933\n",
      "After missing value operation mean value:65.9709099936557\n",
      "After missing value operation mean value:66.10370641360257\n",
      "After missing value operation mean value:65.18949604170689\n",
      "After missing value operation mean value:61.80842734053358\n",
      "After missing value operation mean value:66.96904532038728\n",
      "After missing value operation mean value:67.03854386213976\n",
      "After missing value operation mean value:67.42452850793373\n",
      "After missing value operation mean value:53.33943060575947\n",
      "After missing value operation mean value:60.94804577868539\n",
      "After missing value operation mean value:52.00927149425036\n",
      "After missing value operation mean value:55.78650446101932\n",
      "After missing value operation mean value:57.873549775191016\n",
      "After missing value operation mean value:55.0039859780935\n",
      "After missing value operation mean value:46.772242303786136\n",
      "After missing value operation mean value:50.35125749418484\n",
      "After missing value operation mean value:48.00146194797672\n",
      "After missing value operation mean value:14.704393312293194\n",
      "After missing value operation mean value:16.06361184217711\n",
      "After missing value operation mean value:20.99836192681089\n",
      "After missing value operation mean value:16.13215428465344\n",
      "After missing value operation mean value:16.441438883489315\n",
      "            id  player_fifa_api_id  player_api_id                 date  \\\n",
      "0            1              218353         505942  2016-02-18 00:00:00   \n",
      "1            2              218353         505942  2015-11-19 00:00:00   \n",
      "2            3              218353         505942  2015-09-21 00:00:00   \n",
      "3            4              218353         505942  2015-03-20 00:00:00   \n",
      "4            5              218353         505942  2007-02-22 00:00:00   \n",
      "...        ...                 ...            ...                  ...   \n",
      "183973  183974              102359          39902  2009-08-30 00:00:00   \n",
      "183974  183975              102359          39902  2009-02-22 00:00:00   \n",
      "183975  183976              102359          39902  2008-08-30 00:00:00   \n",
      "183976  183977              102359          39902  2007-08-30 00:00:00   \n",
      "183977  183978              102359          39902  2007-02-22 00:00:00   \n",
      "\n",
      "        overall_rating  potential preferred_foot attacking_work_rate  \\\n",
      "0                 67.0       71.0          right              medium   \n",
      "1                 67.0       71.0          right              medium   \n",
      "2                 62.0       66.0          right              medium   \n",
      "3                 61.0       65.0          right              medium   \n",
      "4                 61.0       65.0          right              medium   \n",
      "...                ...        ...            ...                 ...   \n",
      "183973            83.0       85.0          right              medium   \n",
      "183974            78.0       80.0          right              medium   \n",
      "183975            77.0       80.0          right              medium   \n",
      "183976            78.0       81.0          right              medium   \n",
      "183977            80.0       81.0          right              medium   \n",
      "\n",
      "       defensive_work_rate  crossing  ...  penalties  marking  \\\n",
      "0                   medium      49.0  ...       48.0     65.0   \n",
      "1                   medium      49.0  ...       48.0     65.0   \n",
      "2                   medium      49.0  ...       48.0     65.0   \n",
      "3                   medium      48.0  ...       47.0     62.0   \n",
      "4                   medium      48.0  ...       47.0     62.0   \n",
      "...                    ...       ...  ...        ...      ...   \n",
      "183973                 low      84.0  ...       83.0     22.0   \n",
      "183974                 low      74.0  ...       70.0     32.0   \n",
      "183975                 low      74.0  ...       70.0     32.0   \n",
      "183976                 low      74.0  ...       53.0     28.0   \n",
      "183977                 low      74.0  ...       53.0     38.0   \n",
      "\n",
      "        standing_tackle  sliding_tackle  gk_diving  gk_handling  gk_kicking  \\\n",
      "0                  69.0            69.0        6.0         11.0        10.0   \n",
      "1                  69.0            69.0        6.0         11.0        10.0   \n",
      "2                  66.0            69.0        6.0         11.0        10.0   \n",
      "3                  63.0            66.0        5.0         10.0         9.0   \n",
      "4                  63.0            66.0        5.0         10.0         9.0   \n",
      "...                 ...             ...        ...          ...         ...   \n",
      "183973             31.0            30.0        9.0         20.0        84.0   \n",
      "183974             31.0            30.0        9.0         20.0        73.0   \n",
      "183975             31.0            30.0        9.0         20.0        73.0   \n",
      "183976             32.0            30.0        9.0         20.0        73.0   \n",
      "183977             32.0            30.0        9.0          9.0        78.0   \n",
      "\n",
      "        gk_positioning  gk_reflexes  date_datetime  \n",
      "0                  8.0          8.0     2016-02-18  \n",
      "1                  8.0          8.0     2015-11-19  \n",
      "2                  8.0          8.0     2015-09-21  \n",
      "3                  7.0          7.0     2015-03-20  \n",
      "4                  7.0          7.0     2007-02-22  \n",
      "...                ...          ...            ...  \n",
      "183973            20.0         20.0     2009-08-30  \n",
      "183974            20.0         20.0     2009-02-22  \n",
      "183975            20.0         20.0     2008-08-30  \n",
      "183976            20.0         20.0     2007-08-30  \n",
      "183977             7.0         15.0     2007-02-22  \n",
      "\n",
      "[183978 rows x 43 columns]\n"
     ]
    },
    {
     "data": {
      "text/html": [
       "<div>\n",
       "<style scoped>\n",
       "    .dataframe tbody tr th:only-of-type {\n",
       "        vertical-align: middle;\n",
       "    }\n",
       "\n",
       "    .dataframe tbody tr th {\n",
       "        vertical-align: top;\n",
       "    }\n",
       "\n",
       "    .dataframe thead th {\n",
       "        text-align: right;\n",
       "    }\n",
       "</style>\n",
       "<table border=\"1\" class=\"dataframe\">\n",
       "  <thead>\n",
       "    <tr style=\"text-align: right;\">\n",
       "      <th></th>\n",
       "      <th>id</th>\n",
       "      <th>player_fifa_api_id</th>\n",
       "      <th>player_api_id</th>\n",
       "      <th>date</th>\n",
       "      <th>overall_rating</th>\n",
       "      <th>potential</th>\n",
       "      <th>preferred_foot</th>\n",
       "      <th>attacking_work_rate</th>\n",
       "      <th>defensive_work_rate</th>\n",
       "      <th>crossing</th>\n",
       "      <th>...</th>\n",
       "      <th>penalties</th>\n",
       "      <th>marking</th>\n",
       "      <th>standing_tackle</th>\n",
       "      <th>sliding_tackle</th>\n",
       "      <th>gk_diving</th>\n",
       "      <th>gk_handling</th>\n",
       "      <th>gk_kicking</th>\n",
       "      <th>gk_positioning</th>\n",
       "      <th>gk_reflexes</th>\n",
       "      <th>date_datetime</th>\n",
       "    </tr>\n",
       "  </thead>\n",
       "  <tbody>\n",
       "    <tr>\n",
       "      <td>0</td>\n",
       "      <td>1</td>\n",
       "      <td>218353</td>\n",
       "      <td>505942</td>\n",
       "      <td>2016-02-18 00:00:00</td>\n",
       "      <td>67.0</td>\n",
       "      <td>71.0</td>\n",
       "      <td>right</td>\n",
       "      <td>medium</td>\n",
       "      <td>medium</td>\n",
       "      <td>49.0</td>\n",
       "      <td>...</td>\n",
       "      <td>48.0</td>\n",
       "      <td>65.0</td>\n",
       "      <td>69.0</td>\n",
       "      <td>69.0</td>\n",
       "      <td>6.0</td>\n",
       "      <td>11.0</td>\n",
       "      <td>10.0</td>\n",
       "      <td>8.0</td>\n",
       "      <td>8.0</td>\n",
       "      <td>2016-02-18</td>\n",
       "    </tr>\n",
       "    <tr>\n",
       "      <td>1</td>\n",
       "      <td>2</td>\n",
       "      <td>218353</td>\n",
       "      <td>505942</td>\n",
       "      <td>2015-11-19 00:00:00</td>\n",
       "      <td>67.0</td>\n",
       "      <td>71.0</td>\n",
       "      <td>right</td>\n",
       "      <td>medium</td>\n",
       "      <td>medium</td>\n",
       "      <td>49.0</td>\n",
       "      <td>...</td>\n",
       "      <td>48.0</td>\n",
       "      <td>65.0</td>\n",
       "      <td>69.0</td>\n",
       "      <td>69.0</td>\n",
       "      <td>6.0</td>\n",
       "      <td>11.0</td>\n",
       "      <td>10.0</td>\n",
       "      <td>8.0</td>\n",
       "      <td>8.0</td>\n",
       "      <td>2015-11-19</td>\n",
       "    </tr>\n",
       "    <tr>\n",
       "      <td>2</td>\n",
       "      <td>3</td>\n",
       "      <td>218353</td>\n",
       "      <td>505942</td>\n",
       "      <td>2015-09-21 00:00:00</td>\n",
       "      <td>62.0</td>\n",
       "      <td>66.0</td>\n",
       "      <td>right</td>\n",
       "      <td>medium</td>\n",
       "      <td>medium</td>\n",
       "      <td>49.0</td>\n",
       "      <td>...</td>\n",
       "      <td>48.0</td>\n",
       "      <td>65.0</td>\n",
       "      <td>66.0</td>\n",
       "      <td>69.0</td>\n",
       "      <td>6.0</td>\n",
       "      <td>11.0</td>\n",
       "      <td>10.0</td>\n",
       "      <td>8.0</td>\n",
       "      <td>8.0</td>\n",
       "      <td>2015-09-21</td>\n",
       "    </tr>\n",
       "    <tr>\n",
       "      <td>3</td>\n",
       "      <td>4</td>\n",
       "      <td>218353</td>\n",
       "      <td>505942</td>\n",
       "      <td>2015-03-20 00:00:00</td>\n",
       "      <td>61.0</td>\n",
       "      <td>65.0</td>\n",
       "      <td>right</td>\n",
       "      <td>medium</td>\n",
       "      <td>medium</td>\n",
       "      <td>48.0</td>\n",
       "      <td>...</td>\n",
       "      <td>47.0</td>\n",
       "      <td>62.0</td>\n",
       "      <td>63.0</td>\n",
       "      <td>66.0</td>\n",
       "      <td>5.0</td>\n",
       "      <td>10.0</td>\n",
       "      <td>9.0</td>\n",
       "      <td>7.0</td>\n",
       "      <td>7.0</td>\n",
       "      <td>2015-03-20</td>\n",
       "    </tr>\n",
       "    <tr>\n",
       "      <td>4</td>\n",
       "      <td>5</td>\n",
       "      <td>218353</td>\n",
       "      <td>505942</td>\n",
       "      <td>2007-02-22 00:00:00</td>\n",
       "      <td>61.0</td>\n",
       "      <td>65.0</td>\n",
       "      <td>right</td>\n",
       "      <td>medium</td>\n",
       "      <td>medium</td>\n",
       "      <td>48.0</td>\n",
       "      <td>...</td>\n",
       "      <td>47.0</td>\n",
       "      <td>62.0</td>\n",
       "      <td>63.0</td>\n",
       "      <td>66.0</td>\n",
       "      <td>5.0</td>\n",
       "      <td>10.0</td>\n",
       "      <td>9.0</td>\n",
       "      <td>7.0</td>\n",
       "      <td>7.0</td>\n",
       "      <td>2007-02-22</td>\n",
       "    </tr>\n",
       "    <tr>\n",
       "      <td>...</td>\n",
       "      <td>...</td>\n",
       "      <td>...</td>\n",
       "      <td>...</td>\n",
       "      <td>...</td>\n",
       "      <td>...</td>\n",
       "      <td>...</td>\n",
       "      <td>...</td>\n",
       "      <td>...</td>\n",
       "      <td>...</td>\n",
       "      <td>...</td>\n",
       "      <td>...</td>\n",
       "      <td>...</td>\n",
       "      <td>...</td>\n",
       "      <td>...</td>\n",
       "      <td>...</td>\n",
       "      <td>...</td>\n",
       "      <td>...</td>\n",
       "      <td>...</td>\n",
       "      <td>...</td>\n",
       "      <td>...</td>\n",
       "      <td>...</td>\n",
       "    </tr>\n",
       "    <tr>\n",
       "      <td>183973</td>\n",
       "      <td>183974</td>\n",
       "      <td>102359</td>\n",
       "      <td>39902</td>\n",
       "      <td>2009-08-30 00:00:00</td>\n",
       "      <td>83.0</td>\n",
       "      <td>85.0</td>\n",
       "      <td>right</td>\n",
       "      <td>medium</td>\n",
       "      <td>low</td>\n",
       "      <td>84.0</td>\n",
       "      <td>...</td>\n",
       "      <td>83.0</td>\n",
       "      <td>22.0</td>\n",
       "      <td>31.0</td>\n",
       "      <td>30.0</td>\n",
       "      <td>9.0</td>\n",
       "      <td>20.0</td>\n",
       "      <td>84.0</td>\n",
       "      <td>20.0</td>\n",
       "      <td>20.0</td>\n",
       "      <td>2009-08-30</td>\n",
       "    </tr>\n",
       "    <tr>\n",
       "      <td>183974</td>\n",
       "      <td>183975</td>\n",
       "      <td>102359</td>\n",
       "      <td>39902</td>\n",
       "      <td>2009-02-22 00:00:00</td>\n",
       "      <td>78.0</td>\n",
       "      <td>80.0</td>\n",
       "      <td>right</td>\n",
       "      <td>medium</td>\n",
       "      <td>low</td>\n",
       "      <td>74.0</td>\n",
       "      <td>...</td>\n",
       "      <td>70.0</td>\n",
       "      <td>32.0</td>\n",
       "      <td>31.0</td>\n",
       "      <td>30.0</td>\n",
       "      <td>9.0</td>\n",
       "      <td>20.0</td>\n",
       "      <td>73.0</td>\n",
       "      <td>20.0</td>\n",
       "      <td>20.0</td>\n",
       "      <td>2009-02-22</td>\n",
       "    </tr>\n",
       "    <tr>\n",
       "      <td>183975</td>\n",
       "      <td>183976</td>\n",
       "      <td>102359</td>\n",
       "      <td>39902</td>\n",
       "      <td>2008-08-30 00:00:00</td>\n",
       "      <td>77.0</td>\n",
       "      <td>80.0</td>\n",
       "      <td>right</td>\n",
       "      <td>medium</td>\n",
       "      <td>low</td>\n",
       "      <td>74.0</td>\n",
       "      <td>...</td>\n",
       "      <td>70.0</td>\n",
       "      <td>32.0</td>\n",
       "      <td>31.0</td>\n",
       "      <td>30.0</td>\n",
       "      <td>9.0</td>\n",
       "      <td>20.0</td>\n",
       "      <td>73.0</td>\n",
       "      <td>20.0</td>\n",
       "      <td>20.0</td>\n",
       "      <td>2008-08-30</td>\n",
       "    </tr>\n",
       "    <tr>\n",
       "      <td>183976</td>\n",
       "      <td>183977</td>\n",
       "      <td>102359</td>\n",
       "      <td>39902</td>\n",
       "      <td>2007-08-30 00:00:00</td>\n",
       "      <td>78.0</td>\n",
       "      <td>81.0</td>\n",
       "      <td>right</td>\n",
       "      <td>medium</td>\n",
       "      <td>low</td>\n",
       "      <td>74.0</td>\n",
       "      <td>...</td>\n",
       "      <td>53.0</td>\n",
       "      <td>28.0</td>\n",
       "      <td>32.0</td>\n",
       "      <td>30.0</td>\n",
       "      <td>9.0</td>\n",
       "      <td>20.0</td>\n",
       "      <td>73.0</td>\n",
       "      <td>20.0</td>\n",
       "      <td>20.0</td>\n",
       "      <td>2007-08-30</td>\n",
       "    </tr>\n",
       "    <tr>\n",
       "      <td>183977</td>\n",
       "      <td>183978</td>\n",
       "      <td>102359</td>\n",
       "      <td>39902</td>\n",
       "      <td>2007-02-22 00:00:00</td>\n",
       "      <td>80.0</td>\n",
       "      <td>81.0</td>\n",
       "      <td>right</td>\n",
       "      <td>medium</td>\n",
       "      <td>low</td>\n",
       "      <td>74.0</td>\n",
       "      <td>...</td>\n",
       "      <td>53.0</td>\n",
       "      <td>38.0</td>\n",
       "      <td>32.0</td>\n",
       "      <td>30.0</td>\n",
       "      <td>9.0</td>\n",
       "      <td>9.0</td>\n",
       "      <td>78.0</td>\n",
       "      <td>7.0</td>\n",
       "      <td>15.0</td>\n",
       "      <td>2007-02-22</td>\n",
       "    </tr>\n",
       "  </tbody>\n",
       "</table>\n",
       "<p>183978 rows × 43 columns</p>\n",
       "</div>"
      ],
      "text/plain": [
       "            id  player_fifa_api_id  player_api_id                 date  \\\n",
       "0            1              218353         505942  2016-02-18 00:00:00   \n",
       "1            2              218353         505942  2015-11-19 00:00:00   \n",
       "2            3              218353         505942  2015-09-21 00:00:00   \n",
       "3            4              218353         505942  2015-03-20 00:00:00   \n",
       "4            5              218353         505942  2007-02-22 00:00:00   \n",
       "...        ...                 ...            ...                  ...   \n",
       "183973  183974              102359          39902  2009-08-30 00:00:00   \n",
       "183974  183975              102359          39902  2009-02-22 00:00:00   \n",
       "183975  183976              102359          39902  2008-08-30 00:00:00   \n",
       "183976  183977              102359          39902  2007-08-30 00:00:00   \n",
       "183977  183978              102359          39902  2007-02-22 00:00:00   \n",
       "\n",
       "        overall_rating  potential preferred_foot attacking_work_rate  \\\n",
       "0                 67.0       71.0          right              medium   \n",
       "1                 67.0       71.0          right              medium   \n",
       "2                 62.0       66.0          right              medium   \n",
       "3                 61.0       65.0          right              medium   \n",
       "4                 61.0       65.0          right              medium   \n",
       "...                ...        ...            ...                 ...   \n",
       "183973            83.0       85.0          right              medium   \n",
       "183974            78.0       80.0          right              medium   \n",
       "183975            77.0       80.0          right              medium   \n",
       "183976            78.0       81.0          right              medium   \n",
       "183977            80.0       81.0          right              medium   \n",
       "\n",
       "       defensive_work_rate  crossing  ...  penalties  marking  \\\n",
       "0                   medium      49.0  ...       48.0     65.0   \n",
       "1                   medium      49.0  ...       48.0     65.0   \n",
       "2                   medium      49.0  ...       48.0     65.0   \n",
       "3                   medium      48.0  ...       47.0     62.0   \n",
       "4                   medium      48.0  ...       47.0     62.0   \n",
       "...                    ...       ...  ...        ...      ...   \n",
       "183973                 low      84.0  ...       83.0     22.0   \n",
       "183974                 low      74.0  ...       70.0     32.0   \n",
       "183975                 low      74.0  ...       70.0     32.0   \n",
       "183976                 low      74.0  ...       53.0     28.0   \n",
       "183977                 low      74.0  ...       53.0     38.0   \n",
       "\n",
       "        standing_tackle  sliding_tackle  gk_diving  gk_handling  gk_kicking  \\\n",
       "0                  69.0            69.0        6.0         11.0        10.0   \n",
       "1                  69.0            69.0        6.0         11.0        10.0   \n",
       "2                  66.0            69.0        6.0         11.0        10.0   \n",
       "3                  63.0            66.0        5.0         10.0         9.0   \n",
       "4                  63.0            66.0        5.0         10.0         9.0   \n",
       "...                 ...             ...        ...          ...         ...   \n",
       "183973             31.0            30.0        9.0         20.0        84.0   \n",
       "183974             31.0            30.0        9.0         20.0        73.0   \n",
       "183975             31.0            30.0        9.0         20.0        73.0   \n",
       "183976             32.0            30.0        9.0         20.0        73.0   \n",
       "183977             32.0            30.0        9.0          9.0        78.0   \n",
       "\n",
       "        gk_positioning  gk_reflexes  date_datetime  \n",
       "0                  8.0          8.0     2016-02-18  \n",
       "1                  8.0          8.0     2015-11-19  \n",
       "2                  8.0          8.0     2015-09-21  \n",
       "3                  7.0          7.0     2015-03-20  \n",
       "4                  7.0          7.0     2007-02-22  \n",
       "...                ...          ...            ...  \n",
       "183973            20.0         20.0     2009-08-30  \n",
       "183974            20.0         20.0     2009-02-22  \n",
       "183975            20.0         20.0     2008-08-30  \n",
       "183976            20.0         20.0     2007-08-30  \n",
       "183977             7.0         15.0     2007-02-22  \n",
       "\n",
       "[183978 rows x 43 columns]"
      ]
     },
     "execution_count": 90,
     "metadata": {},
     "output_type": "execute_result"
    }
   ],
   "source": [
    "column_missing_dict = getMissingColumnsCount(Player_Attributes)\n",
    "preprocessOperation(Player_Attributes,0.10,column_missing_dict)"
   ]
  },
  {
   "cell_type": "code",
   "execution_count": 91,
   "metadata": {},
   "outputs": [
    {
     "name": "stdout",
     "output_type": "stream",
     "text": [
      "{'id': 0, 'player_api_id': 0, 'player_name': 0, 'player_fifa_api_id': 0, 'birthday': 0, 'height': 0, 'weight': 0, 'birthday_datetime': 0, 'age': 0, 'BMI': 0}\n",
      "          id  player_api_id          player_name  player_fifa_api_id  \\\n",
      "0          1         505942   Aaron Appindangoye              218353   \n",
      "1          2         155782      Aaron Cresswell              189615   \n",
      "2          3         162549          Aaron Doran              186170   \n",
      "3          4          30572        Aaron Galindo              140161   \n",
      "4          5          23780         Aaron Hughes               17725   \n",
      "...      ...            ...                  ...                 ...   \n",
      "11055  11071          26357       Zoumana Camara                2488   \n",
      "11056  11072         111182         Zsolt Laczko              164680   \n",
      "11057  11073          36491            Zsolt Low              111191   \n",
      "11058  11074          35506  Zurab Khizanishvili               47058   \n",
      "11059  11075          39902   Zvjezdan Misimovic              102359   \n",
      "\n",
      "                  birthday  height  weight birthday_datetime   age       BMI  \n",
      "0      1992-02-29 00:00:00  182.88     187        1992-02-29  28.0  0.005591  \n",
      "1      1989-12-15 00:00:00  170.18     146        1989-12-15  30.0  0.005041  \n",
      "2      1991-05-13 00:00:00  170.18     163        1991-05-13  29.0  0.005628  \n",
      "3      1982-05-08 00:00:00  182.88     198        1982-05-08  38.0  0.005920  \n",
      "4      1979-11-08 00:00:00  182.88     154        1979-11-08  40.0  0.004605  \n",
      "...                    ...     ...     ...               ...   ...       ...  \n",
      "11055  1979-04-03 00:00:00  182.88     168        1979-04-03  41.0  0.005023  \n",
      "11056  1986-12-18 00:00:00  182.88     176        1986-12-18  33.0  0.005262  \n",
      "11057  1979-04-29 00:00:00  180.34     154        1979-04-29  41.0  0.004735  \n",
      "11058  1981-10-06 00:00:00  185.42     172        1981-10-06  38.0  0.005003  \n",
      "11059  1982-06-05 00:00:00  180.34     176        1982-06-05  38.0  0.005412  \n",
      "\n",
      "[11060 rows x 10 columns]\n"
     ]
    },
    {
     "data": {
      "text/html": [
       "<div>\n",
       "<style scoped>\n",
       "    .dataframe tbody tr th:only-of-type {\n",
       "        vertical-align: middle;\n",
       "    }\n",
       "\n",
       "    .dataframe tbody tr th {\n",
       "        vertical-align: top;\n",
       "    }\n",
       "\n",
       "    .dataframe thead th {\n",
       "        text-align: right;\n",
       "    }\n",
       "</style>\n",
       "<table border=\"1\" class=\"dataframe\">\n",
       "  <thead>\n",
       "    <tr style=\"text-align: right;\">\n",
       "      <th></th>\n",
       "      <th>id</th>\n",
       "      <th>player_api_id</th>\n",
       "      <th>player_name</th>\n",
       "      <th>player_fifa_api_id</th>\n",
       "      <th>birthday</th>\n",
       "      <th>height</th>\n",
       "      <th>weight</th>\n",
       "      <th>birthday_datetime</th>\n",
       "      <th>age</th>\n",
       "      <th>BMI</th>\n",
       "    </tr>\n",
       "  </thead>\n",
       "  <tbody>\n",
       "    <tr>\n",
       "      <td>0</td>\n",
       "      <td>1</td>\n",
       "      <td>505942</td>\n",
       "      <td>Aaron Appindangoye</td>\n",
       "      <td>218353</td>\n",
       "      <td>1992-02-29 00:00:00</td>\n",
       "      <td>182.88</td>\n",
       "      <td>187</td>\n",
       "      <td>1992-02-29</td>\n",
       "      <td>28.0</td>\n",
       "      <td>0.005591</td>\n",
       "    </tr>\n",
       "    <tr>\n",
       "      <td>1</td>\n",
       "      <td>2</td>\n",
       "      <td>155782</td>\n",
       "      <td>Aaron Cresswell</td>\n",
       "      <td>189615</td>\n",
       "      <td>1989-12-15 00:00:00</td>\n",
       "      <td>170.18</td>\n",
       "      <td>146</td>\n",
       "      <td>1989-12-15</td>\n",
       "      <td>30.0</td>\n",
       "      <td>0.005041</td>\n",
       "    </tr>\n",
       "    <tr>\n",
       "      <td>2</td>\n",
       "      <td>3</td>\n",
       "      <td>162549</td>\n",
       "      <td>Aaron Doran</td>\n",
       "      <td>186170</td>\n",
       "      <td>1991-05-13 00:00:00</td>\n",
       "      <td>170.18</td>\n",
       "      <td>163</td>\n",
       "      <td>1991-05-13</td>\n",
       "      <td>29.0</td>\n",
       "      <td>0.005628</td>\n",
       "    </tr>\n",
       "    <tr>\n",
       "      <td>3</td>\n",
       "      <td>4</td>\n",
       "      <td>30572</td>\n",
       "      <td>Aaron Galindo</td>\n",
       "      <td>140161</td>\n",
       "      <td>1982-05-08 00:00:00</td>\n",
       "      <td>182.88</td>\n",
       "      <td>198</td>\n",
       "      <td>1982-05-08</td>\n",
       "      <td>38.0</td>\n",
       "      <td>0.005920</td>\n",
       "    </tr>\n",
       "    <tr>\n",
       "      <td>4</td>\n",
       "      <td>5</td>\n",
       "      <td>23780</td>\n",
       "      <td>Aaron Hughes</td>\n",
       "      <td>17725</td>\n",
       "      <td>1979-11-08 00:00:00</td>\n",
       "      <td>182.88</td>\n",
       "      <td>154</td>\n",
       "      <td>1979-11-08</td>\n",
       "      <td>40.0</td>\n",
       "      <td>0.004605</td>\n",
       "    </tr>\n",
       "    <tr>\n",
       "      <td>...</td>\n",
       "      <td>...</td>\n",
       "      <td>...</td>\n",
       "      <td>...</td>\n",
       "      <td>...</td>\n",
       "      <td>...</td>\n",
       "      <td>...</td>\n",
       "      <td>...</td>\n",
       "      <td>...</td>\n",
       "      <td>...</td>\n",
       "      <td>...</td>\n",
       "    </tr>\n",
       "    <tr>\n",
       "      <td>11055</td>\n",
       "      <td>11071</td>\n",
       "      <td>26357</td>\n",
       "      <td>Zoumana Camara</td>\n",
       "      <td>2488</td>\n",
       "      <td>1979-04-03 00:00:00</td>\n",
       "      <td>182.88</td>\n",
       "      <td>168</td>\n",
       "      <td>1979-04-03</td>\n",
       "      <td>41.0</td>\n",
       "      <td>0.005023</td>\n",
       "    </tr>\n",
       "    <tr>\n",
       "      <td>11056</td>\n",
       "      <td>11072</td>\n",
       "      <td>111182</td>\n",
       "      <td>Zsolt Laczko</td>\n",
       "      <td>164680</td>\n",
       "      <td>1986-12-18 00:00:00</td>\n",
       "      <td>182.88</td>\n",
       "      <td>176</td>\n",
       "      <td>1986-12-18</td>\n",
       "      <td>33.0</td>\n",
       "      <td>0.005262</td>\n",
       "    </tr>\n",
       "    <tr>\n",
       "      <td>11057</td>\n",
       "      <td>11073</td>\n",
       "      <td>36491</td>\n",
       "      <td>Zsolt Low</td>\n",
       "      <td>111191</td>\n",
       "      <td>1979-04-29 00:00:00</td>\n",
       "      <td>180.34</td>\n",
       "      <td>154</td>\n",
       "      <td>1979-04-29</td>\n",
       "      <td>41.0</td>\n",
       "      <td>0.004735</td>\n",
       "    </tr>\n",
       "    <tr>\n",
       "      <td>11058</td>\n",
       "      <td>11074</td>\n",
       "      <td>35506</td>\n",
       "      <td>Zurab Khizanishvili</td>\n",
       "      <td>47058</td>\n",
       "      <td>1981-10-06 00:00:00</td>\n",
       "      <td>185.42</td>\n",
       "      <td>172</td>\n",
       "      <td>1981-10-06</td>\n",
       "      <td>38.0</td>\n",
       "      <td>0.005003</td>\n",
       "    </tr>\n",
       "    <tr>\n",
       "      <td>11059</td>\n",
       "      <td>11075</td>\n",
       "      <td>39902</td>\n",
       "      <td>Zvjezdan Misimovic</td>\n",
       "      <td>102359</td>\n",
       "      <td>1982-06-05 00:00:00</td>\n",
       "      <td>180.34</td>\n",
       "      <td>176</td>\n",
       "      <td>1982-06-05</td>\n",
       "      <td>38.0</td>\n",
       "      <td>0.005412</td>\n",
       "    </tr>\n",
       "  </tbody>\n",
       "</table>\n",
       "<p>11060 rows × 10 columns</p>\n",
       "</div>"
      ],
      "text/plain": [
       "          id  player_api_id          player_name  player_fifa_api_id  \\\n",
       "0          1         505942   Aaron Appindangoye              218353   \n",
       "1          2         155782      Aaron Cresswell              189615   \n",
       "2          3         162549          Aaron Doran              186170   \n",
       "3          4          30572        Aaron Galindo              140161   \n",
       "4          5          23780         Aaron Hughes               17725   \n",
       "...      ...            ...                  ...                 ...   \n",
       "11055  11071          26357       Zoumana Camara                2488   \n",
       "11056  11072         111182         Zsolt Laczko              164680   \n",
       "11057  11073          36491            Zsolt Low              111191   \n",
       "11058  11074          35506  Zurab Khizanishvili               47058   \n",
       "11059  11075          39902   Zvjezdan Misimovic              102359   \n",
       "\n",
       "                  birthday  height  weight birthday_datetime   age       BMI  \n",
       "0      1992-02-29 00:00:00  182.88     187        1992-02-29  28.0  0.005591  \n",
       "1      1989-12-15 00:00:00  170.18     146        1989-12-15  30.0  0.005041  \n",
       "2      1991-05-13 00:00:00  170.18     163        1991-05-13  29.0  0.005628  \n",
       "3      1982-05-08 00:00:00  182.88     198        1982-05-08  38.0  0.005920  \n",
       "4      1979-11-08 00:00:00  182.88     154        1979-11-08  40.0  0.004605  \n",
       "...                    ...     ...     ...               ...   ...       ...  \n",
       "11055  1979-04-03 00:00:00  182.88     168        1979-04-03  41.0  0.005023  \n",
       "11056  1986-12-18 00:00:00  182.88     176        1986-12-18  33.0  0.005262  \n",
       "11057  1979-04-29 00:00:00  180.34     154        1979-04-29  41.0  0.004735  \n",
       "11058  1981-10-06 00:00:00  185.42     172        1981-10-06  38.0  0.005003  \n",
       "11059  1982-06-05 00:00:00  180.34     176        1982-06-05  38.0  0.005412  \n",
       "\n",
       "[11060 rows x 10 columns]"
      ]
     },
     "execution_count": 91,
     "metadata": {},
     "output_type": "execute_result"
    }
   ],
   "source": [
    "column_missing_dict2 = getMissingColumnsCount(Player_Data)\n",
    "preprocessOperation(Player_Data,0.10,column_missing_dict2)"
   ]
  },
  {
   "cell_type": "markdown",
   "metadata": {
    "colab_type": "text",
    "id": "7F0pmd_gF8Rs"
   },
   "source": [
    "8. Player_Data ve Player_Attributes tablolarında ortak olarak bulunan player_api_id kolonundaki değerleri kullanarak Player_Data tablosundaki player_name, birthday, age, height ve BMI kolonlarını Player_Attributes tablosuna ilave edin (mapping). \n",
    "Tablonun son halinin ilk 5 satırını print edin. "
   ]
  },
  {
   "cell_type": "code",
   "execution_count": 92,
   "metadata": {
    "colab": {},
    "colab_type": "code",
    "id": "p2j9SZbgF8Rt"
   },
   "outputs": [
    {
     "name": "stdout",
     "output_type": "stream",
     "text": [
      "   id  player_fifa_api_id  player_api_id                 date  overall_rating  \\\n",
      "0   1              218353         505942  2016-02-18 00:00:00            67.0   \n",
      "1   2              218353         505942  2015-11-19 00:00:00            67.0   \n",
      "2   3              218353         505942  2015-09-21 00:00:00            62.0   \n",
      "3   4              218353         505942  2015-03-20 00:00:00            61.0   \n",
      "4   5              218353         505942  2007-02-22 00:00:00            61.0   \n",
      "\n",
      "   potential preferred_foot attacking_work_rate defensive_work_rate  crossing  \\\n",
      "0       71.0          right              medium              medium      49.0   \n",
      "1       71.0          right              medium              medium      49.0   \n",
      "2       66.0          right              medium              medium      49.0   \n",
      "3       65.0          right              medium              medium      48.0   \n",
      "4       65.0          right              medium              medium      48.0   \n",
      "\n",
      "   ...  gk_handling  gk_kicking  gk_positioning  gk_reflexes  date_datetime  \\\n",
      "0  ...         11.0        10.0             8.0          8.0     2016-02-18   \n",
      "1  ...         11.0        10.0             8.0          8.0     2015-11-19   \n",
      "2  ...         11.0        10.0             8.0          8.0     2015-09-21   \n",
      "3  ...         10.0         9.0             7.0          7.0     2015-03-20   \n",
      "4  ...         10.0         9.0             7.0          7.0     2007-02-22   \n",
      "\n",
      "          player_name   age             birthday  height       BMI  \n",
      "0  Aaron Appindangoye  28.0  1992-02-29 00:00:00  182.88  0.005591  \n",
      "1  Aaron Appindangoye  28.0  1992-02-29 00:00:00  182.88  0.005591  \n",
      "2  Aaron Appindangoye  28.0  1992-02-29 00:00:00  182.88  0.005591  \n",
      "3  Aaron Appindangoye  28.0  1992-02-29 00:00:00  182.88  0.005591  \n",
      "4  Aaron Appindangoye  28.0  1992-02-29 00:00:00  182.88  0.005591  \n",
      "\n",
      "[5 rows x 48 columns]\n"
     ]
    }
   ],
   "source": [
    "Player_Attributes['player_name'] =Player_Attributes['player_api_id'].map(Player_Data.set_index('player_api_id')['player_name'])\n",
    "Player_Attributes['age'] =Player_Attributes['player_api_id'].map(Player_Data.set_index('player_api_id')['age'])\n",
    "Player_Attributes['birthday'] =Player_Attributes['player_api_id'].map(Player_Data.set_index('player_api_id')['birthday'])\n",
    "Player_Attributes['height'] =Player_Attributes['player_api_id'].map(Player_Data.set_index('player_api_id')['height'])\n",
    "Player_Attributes['BMI'] =Player_Attributes['player_api_id'].map(Player_Data.set_index('player_api_id')['BMI'])\n",
    "showTopKData(Player_Attributes,5)"
   ]
  },
  {
   "cell_type": "code",
   "execution_count": 93,
   "metadata": {
    "scrolled": true
   },
   "outputs": [],
   "source": [
    "#düzeltilmiş hali .#age alanı oynandıgı zamana göre hesaplanmalıdır.\n",
    "def calculateAndAddAge(data):\n",
    "    data.drop(['age'], axis=1)\n",
    "    data['age']=data.apply(lambda row: (pd.to_datetime(row.date_datetime)-pd.to_datetime(row.birthday)),axis=1).astype('<m8[Y]')  \n",
    "    print(data)\n"
   ]
  },
  {
   "cell_type": "code",
   "execution_count": 94,
   "metadata": {
    "scrolled": true
   },
   "outputs": [
    {
     "name": "stdout",
     "output_type": "stream",
     "text": [
      "            id  player_fifa_api_id  player_api_id                 date  \\\n",
      "0            1              218353         505942  2016-02-18 00:00:00   \n",
      "1            2              218353         505942  2015-11-19 00:00:00   \n",
      "2            3              218353         505942  2015-09-21 00:00:00   \n",
      "3            4              218353         505942  2015-03-20 00:00:00   \n",
      "4            5              218353         505942  2007-02-22 00:00:00   \n",
      "...        ...                 ...            ...                  ...   \n",
      "183973  183974              102359          39902  2009-08-30 00:00:00   \n",
      "183974  183975              102359          39902  2009-02-22 00:00:00   \n",
      "183975  183976              102359          39902  2008-08-30 00:00:00   \n",
      "183976  183977              102359          39902  2007-08-30 00:00:00   \n",
      "183977  183978              102359          39902  2007-02-22 00:00:00   \n",
      "\n",
      "        overall_rating  potential preferred_foot attacking_work_rate  \\\n",
      "0                 67.0       71.0          right              medium   \n",
      "1                 67.0       71.0          right              medium   \n",
      "2                 62.0       66.0          right              medium   \n",
      "3                 61.0       65.0          right              medium   \n",
      "4                 61.0       65.0          right              medium   \n",
      "...                ...        ...            ...                 ...   \n",
      "183973            83.0       85.0          right              medium   \n",
      "183974            78.0       80.0          right              medium   \n",
      "183975            77.0       80.0          right              medium   \n",
      "183976            78.0       81.0          right              medium   \n",
      "183977            80.0       81.0          right              medium   \n",
      "\n",
      "       defensive_work_rate  crossing  ...  gk_handling  gk_kicking  \\\n",
      "0                   medium      49.0  ...         11.0        10.0   \n",
      "1                   medium      49.0  ...         11.0        10.0   \n",
      "2                   medium      49.0  ...         11.0        10.0   \n",
      "3                   medium      48.0  ...         10.0         9.0   \n",
      "4                   medium      48.0  ...         10.0         9.0   \n",
      "...                    ...       ...  ...          ...         ...   \n",
      "183973                 low      84.0  ...         20.0        84.0   \n",
      "183974                 low      74.0  ...         20.0        73.0   \n",
      "183975                 low      74.0  ...         20.0        73.0   \n",
      "183976                 low      74.0  ...         20.0        73.0   \n",
      "183977                 low      74.0  ...          9.0        78.0   \n",
      "\n",
      "        gk_positioning  gk_reflexes  date_datetime         player_name   age  \\\n",
      "0                  8.0          8.0     2016-02-18  Aaron Appindangoye  23.0   \n",
      "1                  8.0          8.0     2015-11-19  Aaron Appindangoye  23.0   \n",
      "2                  8.0          8.0     2015-09-21  Aaron Appindangoye  23.0   \n",
      "3                  7.0          7.0     2015-03-20  Aaron Appindangoye  23.0   \n",
      "4                  7.0          7.0     2007-02-22  Aaron Appindangoye  14.0   \n",
      "...                ...          ...            ...                 ...   ...   \n",
      "183973            20.0         20.0     2009-08-30  Zvjezdan Misimovic  27.0   \n",
      "183974            20.0         20.0     2009-02-22  Zvjezdan Misimovic  26.0   \n",
      "183975            20.0         20.0     2008-08-30  Zvjezdan Misimovic  26.0   \n",
      "183976            20.0         20.0     2007-08-30  Zvjezdan Misimovic  25.0   \n",
      "183977             7.0         15.0     2007-02-22  Zvjezdan Misimovic  24.0   \n",
      "\n",
      "                   birthday  height       BMI  \n",
      "0       1992-02-29 00:00:00  182.88  0.005591  \n",
      "1       1992-02-29 00:00:00  182.88  0.005591  \n",
      "2       1992-02-29 00:00:00  182.88  0.005591  \n",
      "3       1992-02-29 00:00:00  182.88  0.005591  \n",
      "4       1992-02-29 00:00:00  182.88  0.005591  \n",
      "...                     ...     ...       ...  \n",
      "183973  1982-06-05 00:00:00  180.34  0.005412  \n",
      "183974  1982-06-05 00:00:00  180.34  0.005412  \n",
      "183975  1982-06-05 00:00:00  180.34  0.005412  \n",
      "183976  1982-06-05 00:00:00  180.34  0.005412  \n",
      "183977  1982-06-05 00:00:00  180.34  0.005412  \n",
      "\n",
      "[183978 rows x 48 columns]\n"
     ]
    }
   ],
   "source": [
    "calculateAndAddAge(Player_Attributes)"
   ]
  },
  {
   "cell_type": "markdown",
   "metadata": {
    "colab_type": "text",
    "id": "SRZHtTwsF8Rv"
   },
   "source": [
    "#### Sorular"
   ]
  },
  {
   "cell_type": "markdown",
   "metadata": {
    "colab_type": "text",
    "id": "zYzbiTrFF8Rv"
   },
   "source": [
    "9. Player_Attributes tablosundaki player_api_id kolonunu kullanarak tabloda kaç tekil (unique) oyuncunun bulunduğunu print edin. Buna göre her oyuncu tabloda ortalama kaç kez yer alıyor?"
   ]
  },
  {
   "cell_type": "code",
   "execution_count": 95,
   "metadata": {
    "colab": {},
    "colab_type": "code",
    "id": "wwFrxZ4oF8Rv"
   },
   "outputs": [
    {
     "data": {
      "text/plain": [
       "11060"
      ]
     },
     "execution_count": 95,
     "metadata": {},
     "output_type": "execute_result"
    }
   ],
   "source": [
    "Player_Attributes.player_api_id .unique().size #number of unique player."
   ]
  },
  {
   "cell_type": "code",
   "execution_count": 100,
   "metadata": {},
   "outputs": [
    {
     "name": "stdout",
     "output_type": "stream",
     "text": [
      "player_api_id\n",
      "2625      14\n",
      "2752      21\n",
      "2768      21\n",
      "2770      15\n",
      "2790       5\n",
      "          ..\n",
      "744907    11\n",
      "746419     2\n",
      "748432     2\n",
      "750435     9\n",
      "750584     2\n",
      "Name: id, Length: 11060, dtype: int64\n"
     ]
    }
   ],
   "source": [
    "#Player_Attributes[Player_Attributes['player_api_id']==2625]\n",
    "print (Player_Attributes.groupby('player_api_id')['id'].nunique())\n"
   ]
  },
  {
   "cell_type": "markdown",
   "metadata": {
    "colab_type": "text",
    "id": "8bnYYzn8F8Rx"
   },
   "source": [
    "10. Player_Attributes tablosundaki ortalama ratingi en yüksek oyuncu kimdir ve id'si nedir? Bu oyuncuya ait verileri Player_Sample isimli ayrı bir tabloya kopyalayın ve bu tabloyu date kolonuna göre yeniden eskiye doğru sıralayarak print edin."
   ]
  },
  {
   "cell_type": "code",
   "execution_count": 101,
   "metadata": {
    "colab": {},
    "colab_type": "code",
    "id": "Q42QSt5rF8Ry",
    "scrolled": true
   },
   "outputs": [
    {
     "data": {
      "text/html": [
       "<div>\n",
       "<style scoped>\n",
       "    .dataframe tbody tr th:only-of-type {\n",
       "        vertical-align: middle;\n",
       "    }\n",
       "\n",
       "    .dataframe tbody tr th {\n",
       "        vertical-align: top;\n",
       "    }\n",
       "\n",
       "    .dataframe thead th {\n",
       "        text-align: right;\n",
       "    }\n",
       "</style>\n",
       "<table border=\"1\" class=\"dataframe\">\n",
       "  <thead>\n",
       "    <tr style=\"text-align: right;\">\n",
       "      <th></th>\n",
       "      <th>id</th>\n",
       "      <th>player_name</th>\n",
       "    </tr>\n",
       "  </thead>\n",
       "  <tbody>\n",
       "    <tr>\n",
       "      <td>102482</td>\n",
       "      <td>102483</td>\n",
       "      <td>Lionel Messi</td>\n",
       "    </tr>\n",
       "    <tr>\n",
       "      <td>102483</td>\n",
       "      <td>102484</td>\n",
       "      <td>Lionel Messi</td>\n",
       "    </tr>\n",
       "    <tr>\n",
       "      <td>102484</td>\n",
       "      <td>102485</td>\n",
       "      <td>Lionel Messi</td>\n",
       "    </tr>\n",
       "    <tr>\n",
       "      <td>102491</td>\n",
       "      <td>102492</td>\n",
       "      <td>Lionel Messi</td>\n",
       "    </tr>\n",
       "    <tr>\n",
       "      <td>102492</td>\n",
       "      <td>102493</td>\n",
       "      <td>Lionel Messi</td>\n",
       "    </tr>\n",
       "    <tr>\n",
       "      <td>102493</td>\n",
       "      <td>102494</td>\n",
       "      <td>Lionel Messi</td>\n",
       "    </tr>\n",
       "    <tr>\n",
       "      <td>102494</td>\n",
       "      <td>102495</td>\n",
       "      <td>Lionel Messi</td>\n",
       "    </tr>\n",
       "    <tr>\n",
       "      <td>102495</td>\n",
       "      <td>102496</td>\n",
       "      <td>Lionel Messi</td>\n",
       "    </tr>\n",
       "    <tr>\n",
       "      <td>102496</td>\n",
       "      <td>102497</td>\n",
       "      <td>Lionel Messi</td>\n",
       "    </tr>\n",
       "    <tr>\n",
       "      <td>102497</td>\n",
       "      <td>102498</td>\n",
       "      <td>Lionel Messi</td>\n",
       "    </tr>\n",
       "    <tr>\n",
       "      <td>102498</td>\n",
       "      <td>102499</td>\n",
       "      <td>Lionel Messi</td>\n",
       "    </tr>\n",
       "    <tr>\n",
       "      <td>102499</td>\n",
       "      <td>102500</td>\n",
       "      <td>Lionel Messi</td>\n",
       "    </tr>\n",
       "  </tbody>\n",
       "</table>\n",
       "</div>"
      ],
      "text/plain": [
       "            id   player_name\n",
       "102482  102483  Lionel Messi\n",
       "102483  102484  Lionel Messi\n",
       "102484  102485  Lionel Messi\n",
       "102491  102492  Lionel Messi\n",
       "102492  102493  Lionel Messi\n",
       "102493  102494  Lionel Messi\n",
       "102494  102495  Lionel Messi\n",
       "102495  102496  Lionel Messi\n",
       "102496  102497  Lionel Messi\n",
       "102497  102498  Lionel Messi\n",
       "102498  102499  Lionel Messi\n",
       "102499  102500  Lionel Messi"
      ]
     },
     "execution_count": 101,
     "metadata": {},
     "output_type": "execute_result"
    }
   ],
   "source": [
    "Player_Attributes[Player_Attributes['overall_rating']==Player_Attributes['overall_rating'].max()][['id','player_name']]"
   ]
  },
  {
   "cell_type": "code",
   "execution_count": 102,
   "metadata": {},
   "outputs": [
    {
     "name": "stdout",
     "output_type": "stream",
     "text": [
      "            id  player_fifa_api_id  player_api_id                 date  \\\n",
      "102482  102483              158023          30981  2015-12-17 00:00:00   \n",
      "102483  102484              158023          30981  2015-10-16 00:00:00   \n",
      "102484  102485              158023          30981  2015-09-21 00:00:00   \n",
      "102485  102486              158023          30981  2015-06-26 00:00:00   \n",
      "102486  102487              158023          30981  2015-03-13 00:00:00   \n",
      "102487  102488              158023          30981  2015-02-20 00:00:00   \n",
      "102488  102489              158023          30981  2015-01-23 00:00:00   \n",
      "102489  102490              158023          30981  2014-10-17 00:00:00   \n",
      "102490  102491              158023          30981  2014-09-18 00:00:00   \n",
      "102491  102492              158023          30981  2014-04-25 00:00:00   \n",
      "102492  102493              158023          30981  2013-11-15 00:00:00   \n",
      "102493  102494              158023          30981  2013-09-20 00:00:00   \n",
      "102494  102495              158023          30981  2013-03-22 00:00:00   \n",
      "102495  102496              158023          30981  2013-03-08 00:00:00   \n",
      "102496  102497              158023          30981  2013-02-15 00:00:00   \n",
      "102497  102498              158023          30981  2012-08-31 00:00:00   \n",
      "102498  102499              158023          30981  2012-02-22 00:00:00   \n",
      "102499  102500              158023          30981  2011-08-30 00:00:00   \n",
      "102500  102501              158023          30981  2011-02-22 00:00:00   \n",
      "102501  102502              158023          30981  2010-08-30 00:00:00   \n",
      "102502  102503              158023          30981  2010-02-22 00:00:00   \n",
      "102503  102504              158023          30981  2009-08-30 00:00:00   \n",
      "102504  102505              158023          30981  2009-02-22 00:00:00   \n",
      "102505  102506              158023          30981  2008-08-30 00:00:00   \n",
      "102506  102507              158023          30981  2007-08-30 00:00:00   \n",
      "102507  102508              158023          30981  2007-02-22 00:00:00   \n",
      "\n",
      "        overall_rating  potential preferred_foot attacking_work_rate  \\\n",
      "102482            94.0       94.0           left              medium   \n",
      "102483            94.0       94.0           left              medium   \n",
      "102484            94.0       95.0           left              medium   \n",
      "102485            93.0       93.0           left              medium   \n",
      "102486            93.0       95.0           left              medium   \n",
      "102487            93.0       95.0           left              medium   \n",
      "102488            93.0       95.0           left              medium   \n",
      "102489            93.0       95.0           left              medium   \n",
      "102490            93.0       95.0           left              medium   \n",
      "102491            94.0       97.0           left              medium   \n",
      "102492            94.0       97.0           left                high   \n",
      "102493            94.0       97.0           left                high   \n",
      "102494            94.0       97.0           left                high   \n",
      "102495            94.0       97.0           left                high   \n",
      "102496            94.0       97.0           left                high   \n",
      "102497            94.0       96.0           left                high   \n",
      "102498            94.0       96.0           left                high   \n",
      "102499            94.0       96.0           left                high   \n",
      "102500            90.0       94.0           left                high   \n",
      "102501            90.0       95.0           left                high   \n",
      "102502            90.0       94.0           left                high   \n",
      "102503            90.0       95.0           left                high   \n",
      "102504            90.0       95.0           left                high   \n",
      "102505            90.0       95.0           left                high   \n",
      "102506            86.0       93.0           left                high   \n",
      "102507            85.0       94.0           left                high   \n",
      "\n",
      "       defensive_work_rate  crossing  ...  gk_handling  gk_kicking  \\\n",
      "102482                 low      80.0  ...         11.0        15.0   \n",
      "102483                 low      80.0  ...         11.0        15.0   \n",
      "102484                 low      80.0  ...         11.0        15.0   \n",
      "102485                 low      84.0  ...         11.0        15.0   \n",
      "102486                 low      84.0  ...         11.0        15.0   \n",
      "102487                 low      84.0  ...         11.0        15.0   \n",
      "102488                 low      84.0  ...         11.0        15.0   \n",
      "102489                 low      84.0  ...         11.0        15.0   \n",
      "102490                 low      84.0  ...         11.0        15.0   \n",
      "102491                 low      84.0  ...         11.0        15.0   \n",
      "102492              medium      84.0  ...         11.0        15.0   \n",
      "102493              medium      84.0  ...         11.0        15.0   \n",
      "102494              medium      84.0  ...         11.0        15.0   \n",
      "102495              medium      84.0  ...         11.0        15.0   \n",
      "102496              medium      84.0  ...         11.0        15.0   \n",
      "102497              medium      85.0  ...         11.0        15.0   \n",
      "102498              medium      85.0  ...         11.0        15.0   \n",
      "102499              medium      85.0  ...         11.0        15.0   \n",
      "102500              medium      85.0  ...         11.0        15.0   \n",
      "102501              medium      85.0  ...         11.0        15.0   \n",
      "102502              medium      82.0  ...         20.0        75.0   \n",
      "102503              medium      82.0  ...         20.0        75.0   \n",
      "102504              medium      81.0  ...         20.0        79.0   \n",
      "102505              medium      81.0  ...         20.0        79.0   \n",
      "102506              medium      83.0  ...         20.0        79.0   \n",
      "102507              medium      85.0  ...          9.0        79.0   \n",
      "\n",
      "        gk_positioning  gk_reflexes  date_datetime   player_name   age  \\\n",
      "102482            14.0          8.0     2015-12-17  Lionel Messi  28.0   \n",
      "102483            14.0          8.0     2015-10-16  Lionel Messi  28.0   \n",
      "102484            14.0          8.0     2015-09-21  Lionel Messi  28.0   \n",
      "102485            14.0          8.0     2015-06-26  Lionel Messi  28.0   \n",
      "102486            14.0          8.0     2015-03-13  Lionel Messi  27.0   \n",
      "102487            14.0          8.0     2015-02-20  Lionel Messi  27.0   \n",
      "102488            14.0          8.0     2015-01-23  Lionel Messi  27.0   \n",
      "102489            14.0          8.0     2014-10-17  Lionel Messi  27.0   \n",
      "102490            14.0          8.0     2014-09-18  Lionel Messi  27.0   \n",
      "102491            14.0          8.0     2014-04-25  Lionel Messi  26.0   \n",
      "102492            14.0          8.0     2013-11-15  Lionel Messi  26.0   \n",
      "102493            14.0          8.0     2013-09-20  Lionel Messi  26.0   \n",
      "102494            14.0          8.0     2013-03-22  Lionel Messi  25.0   \n",
      "102495            14.0          8.0     2013-03-08  Lionel Messi  25.0   \n",
      "102496            14.0          8.0     2013-02-15  Lionel Messi  25.0   \n",
      "102497            14.0          8.0     2012-08-31  Lionel Messi  25.0   \n",
      "102498            14.0          8.0     2012-02-22  Lionel Messi  24.0   \n",
      "102499            14.0          8.0     2011-08-30  Lionel Messi  24.0   \n",
      "102500            14.0          8.0     2011-02-22  Lionel Messi  23.0   \n",
      "102501            14.0          8.0     2010-08-30  Lionel Messi  23.0   \n",
      "102502            20.0         20.0     2010-02-22  Lionel Messi  22.0   \n",
      "102503            20.0         20.0     2009-08-30  Lionel Messi  22.0   \n",
      "102504            20.0         20.0     2009-02-22  Lionel Messi  21.0   \n",
      "102505            20.0         20.0     2008-08-30  Lionel Messi  21.0   \n",
      "102506            20.0         20.0     2007-08-30  Lionel Messi  20.0   \n",
      "102507            12.0         16.0     2007-02-22  Lionel Messi  19.0   \n",
      "\n",
      "                   birthday  height      BMI  \n",
      "102482  1987-06-24 00:00:00  170.18  0.00549  \n",
      "102483  1987-06-24 00:00:00  170.18  0.00549  \n",
      "102484  1987-06-24 00:00:00  170.18  0.00549  \n",
      "102485  1987-06-24 00:00:00  170.18  0.00549  \n",
      "102486  1987-06-24 00:00:00  170.18  0.00549  \n",
      "102487  1987-06-24 00:00:00  170.18  0.00549  \n",
      "102488  1987-06-24 00:00:00  170.18  0.00549  \n",
      "102489  1987-06-24 00:00:00  170.18  0.00549  \n",
      "102490  1987-06-24 00:00:00  170.18  0.00549  \n",
      "102491  1987-06-24 00:00:00  170.18  0.00549  \n",
      "102492  1987-06-24 00:00:00  170.18  0.00549  \n",
      "102493  1987-06-24 00:00:00  170.18  0.00549  \n",
      "102494  1987-06-24 00:00:00  170.18  0.00549  \n",
      "102495  1987-06-24 00:00:00  170.18  0.00549  \n",
      "102496  1987-06-24 00:00:00  170.18  0.00549  \n",
      "102497  1987-06-24 00:00:00  170.18  0.00549  \n",
      "102498  1987-06-24 00:00:00  170.18  0.00549  \n",
      "102499  1987-06-24 00:00:00  170.18  0.00549  \n",
      "102500  1987-06-24 00:00:00  170.18  0.00549  \n",
      "102501  1987-06-24 00:00:00  170.18  0.00549  \n",
      "102502  1987-06-24 00:00:00  170.18  0.00549  \n",
      "102503  1987-06-24 00:00:00  170.18  0.00549  \n",
      "102504  1987-06-24 00:00:00  170.18  0.00549  \n",
      "102505  1987-06-24 00:00:00  170.18  0.00549  \n",
      "102506  1987-06-24 00:00:00  170.18  0.00549  \n",
      "102507  1987-06-24 00:00:00  170.18  0.00549  \n",
      "\n",
      "[26 rows x 48 columns]\n"
     ]
    }
   ],
   "source": [
    "Player_Sample=Player_Attributes[Player_Attributes['player_name']=='Lionel Messi']\n",
    "Player_Sample.sort_values(by='date') #hangi date istedigi belirtilmemiş\n",
    "#Player_Sample.sort_values(by='date_datetime') #hangi date istedigi belirtilmemiş iki date içinde çalışıyor.\n",
    "print(Player_Sample)"
   ]
  },
  {
   "cell_type": "markdown",
   "metadata": {
    "colab_type": "text",
    "id": "VaLI3PlBF8Rz"
   },
   "source": [
    "11. Sağ ayaklı oyuncuların sol ayaklı oyunculara göre ratinglerinde kayda değer bir fark var mı? Ortalamaları üzerinden kıyaslayın."
   ]
  },
  {
   "cell_type": "code",
   "execution_count": 103,
   "metadata": {
    "colab": {},
    "colab_type": "code",
    "id": "thwdhHfmF8R0"
   },
   "outputs": [
    {
     "name": "stdout",
     "output_type": "stream",
     "text": [
      "68.59160912622434\n",
      "68.6261820132788\n"
     ]
    }
   ],
   "source": [
    "#Player_Attributes.preferred_foot .unique() preprocessden dolayı None ifade kalmadı\n",
    "print(Player_Attributes[Player_Attributes['preferred_foot']=='right']['overall_rating'].mean())\n",
    "print(Player_Attributes[Player_Attributes['preferred_foot']=='left']['overall_rating'].mean())\n",
    "#ortalamaları birbirine yakındır. Ortalama rating açısından kıyasladığımzda hangi ayakla oynadıgı çok farketmemektedir."
   ]
  },
  {
   "cell_type": "markdown",
   "metadata": {
    "colab_type": "text",
    "id": "W5CWsFl2F8R2"
   },
   "source": [
    "#### Veri Görselleştirme"
   ]
  },
  {
   "cell_type": "markdown",
   "metadata": {
    "colab_type": "text",
    "id": "gjKAonjIF8R2"
   },
   "source": [
    "12. Player_Sample tablosunu kullanarak bu oyuncunun overall rating'inin yaşına göre değişimini plot edin (line plot). Grafikteki eksen etiketlerinin ve başlığın doğru şekilde göründüğünden emin olun."
   ]
  },
  {
   "cell_type": "code",
   "execution_count": 104,
   "metadata": {
    "colab": {},
    "colab_type": "code",
    "id": "izgUjznAF8R3"
   },
   "outputs": [
    {
     "data": {
      "image/png": "[encoded data removed]",
      "text/plain": [
       "<Figure size 432x288 with 1 Axes>"
      ]
     },
     "metadata": {
      "needs_background": "light"
     },
     "output_type": "display_data"
    }
   ],
   "source": [
    "plt.plot(Player_Sample['age'], Player_Sample['overall_rating'], label='Max overall rating player result')\n",
    "plt.xlabel('age')\n",
    "plt.ylabel('overall_rating')\n",
    "plt.legend()\n",
    "plt.show()"
   ]
  },
  {
   "cell_type": "markdown",
   "metadata": {
    "colab_type": "text",
    "id": "g3B3euWrF8R5"
   },
   "source": [
    "13. Player_Attributes tablosundaki overall_rating kolonunu (10,5) boyutunda bir histogram olarak plot edin. Histogramın bin sayısını 30, rengini mavi olarak ayarlayın. Grafikteki etiketlerin ve başlığın doğru şekilde göründüğünden emin olun. Grafiği sayısal olarak da anlayabilmek adına grafiğin altına overall_rating kolonunun descriptive istatistiklerini print edin (.describe()). "
   ]
  },
  {
   "cell_type": "code",
   "execution_count": 105,
   "metadata": {
    "colab": {},
    "colab_type": "code",
    "id": "rmr-WKBpF8R5"
   },
   "outputs": [
    {
     "data": {
      "text/plain": [
       "array([[<matplotlib.axes._subplots.AxesSubplot object at 0x1a1f8f5890>]],\n",
       "      dtype=object)"
      ]
     },
     "execution_count": 105,
     "metadata": {},
     "output_type": "execute_result"
    },
    {
     "data": {
      "image/png": "[encoded data removed]",
      "text/plain": [
       "<Figure size 720x360 with 1 Axes>"
      ]
     },
     "metadata": {
      "needs_background": "light"
     },
     "output_type": "display_data"
    }
   ],
   "source": [
    "Player_Attributes.hist(column=\"overall_rating\",figsize=(10,5),bins=30, color='#0000FF') "
   ]
  },
  {
   "cell_type": "code",
   "execution_count": 106,
   "metadata": {},
   "outputs": [
    {
     "data": {
      "text/plain": [
       "count    183978.000000\n",
       "mean         68.600015\n",
       "std           7.025124\n",
       "min          33.000000\n",
       "25%          64.000000\n",
       "50%          69.000000\n",
       "75%          73.000000\n",
       "max          94.000000\n",
       "Name: overall_rating, dtype: float64"
      ]
     },
     "execution_count": 106,
     "metadata": {},
     "output_type": "execute_result"
    }
   ],
   "source": [
    "Player_Attributes['overall_rating'].describe() #descriptive properties of overall_rating"
   ]
  },
  {
   "cell_type": "markdown",
   "metadata": {
    "colab_type": "text",
    "id": "WoCuFc-oF8R7"
   },
   "source": [
    "14. Benzer şekilde age kolonunu plot edin (histogram)."
   ]
  },
  {
   "cell_type": "code",
   "execution_count": 107,
   "metadata": {
    "colab": {},
    "colab_type": "code",
    "id": "ESZ2lXeMF8R7"
   },
   "outputs": [
    {
     "data": {
      "text/plain": [
       "array([[<matplotlib.axes._subplots.AxesSubplot object at 0x1a1f570b50>]],\n",
       "      dtype=object)"
      ]
     },
     "execution_count": 107,
     "metadata": {},
     "output_type": "execute_result"
    },
    {
     "data": {
      "image/png": "[encoded data removed]",
      "text/plain": [
       "<Figure size 720x360 with 1 Axes>"
      ]
     },
     "metadata": {
      "needs_background": "light"
     },
     "output_type": "display_data"
    }
   ],
   "source": [
    "Player_Attributes.hist(column=\"age\",figsize=(10,5),bins=30, color='#0000FF') "
   ]
  },
  {
   "cell_type": "code",
   "execution_count": 108,
   "metadata": {},
   "outputs": [
    {
     "data": {
      "text/plain": [
       "count    183978.000000\n",
       "mean         25.203426\n",
       "std           4.733836\n",
       "min           7.000000\n",
       "25%          22.000000\n",
       "50%          25.000000\n",
       "75%          28.000000\n",
       "max          43.000000\n",
       "Name: age, dtype: float64"
      ]
     },
     "execution_count": 108,
     "metadata": {},
     "output_type": "execute_result"
    }
   ],
   "source": [
    "Player_Attributes['age'].describe() #descriptive properties of overall_rating"
   ]
  },
  {
   "cell_type": "markdown",
   "metadata": {
    "colab_type": "text",
    "id": "Id57Lw7aF8R9"
   },
   "source": [
    "15. Overall_rating'in age'e göre dağılımını plot edin (scatter plot)."
   ]
  },
  {
   "cell_type": "code",
   "execution_count": 109,
   "metadata": {
    "colab": {},
    "colab_type": "code",
    "id": "0oMDrTfXF8R9"
   },
   "outputs": [
    {
     "data": {
      "image/png": "[encoded data removed]",
      "text/plain": [
       "<Figure size 432x288 with 1 Axes>"
      ]
     },
     "metadata": {
      "needs_background": "light"
     },
     "output_type": "display_data"
    }
   ],
   "source": [
    "Player_Attributes.plot.scatter(x='age', y='overall_rating', title= \"Scatter plot between height and overall rating\");\n",
    "plt.show(block=True);"
   ]
  },
  {
   "cell_type": "markdown",
   "metadata": {
    "colab_type": "text",
    "id": "BJU28nvUF8R-"
   },
   "source": [
    "16. Dağılım grafiğini daha anlaşılır kılabilmek için age kolonunu bin'lere bölüp boxplot olarak çizin ve overall_rating'e göre değişimlerini gözlemleyin. Bin'lere bölme ve plotting işlemini yapmak için aşağıda yarım olarak verilmiş kod bloğunu kullanabilirsiniz."
   ]
  },
  {
   "cell_type": "code",
   "execution_count": 127,
   "metadata": {},
   "outputs": [],
   "source": [
    "#bu soruyu anlayamadım çözümü konusunda yardımcı olabilir misiniz? \n",
    "age_bins = [0, 20, 22, 24, 26, 28, 30, 32, np.inf]\n",
    "age_bin_names = ['<20', '20-22', '22-24', '24-26', '26-28', '28-30', '30-32', '>32']\n",
    "\n",
    "Player_Attributes['age_bin'] = pd.cut(x=Player_Attributes['age'], bins=age_bins)\n",
    "\n",
    "age1 = Player_Attributes[(Player_Attributes['age_bin'] == age_bin_names[0])]\n",
    "age2 = Player_Attributes[(Player_Attributes['age_bin'] == age_bin_names[1])]\n",
    "age3 = Player_Attributes[(Player_Attributes['age_bin'] == age_bin_names[2])]\n",
    "age4 = Player_Attributes[(Player_Attributes['age_bin'] == age_bin_names[3])]\n",
    "age5 = Player_Attributes[(Player_Attributes['age_bin'] == age_bin_names[4])]\n",
    "age6 = Player_Attributes[(Player_Attributes['age_bin'] == age_bin_names[5])]\n",
    "age7 = Player_Attributes[(Player_Attributes['age_bin'] == age_bin_names[6])]\n",
    "age8 = Player_Attributes[(Player_Attributes['age_bin'] == age_bin_names[7])]\n",
    "\n",
    "age_bin_data = [ age1, age2, age3, age4, age5, age6, age7, age8 ]\n",
    "\n",
    "fig, axes = plt.subplots(nrows=1, ncols=1, figsize=(15, 10))\n",
    "plt.boxplot(age_bin_data, patch_artist=True)\n",
    "axes.set(Player_Attributes['overall_rating'])\n",
    "axes.yaxis.grid(True)\n",
    "axes.set_xticklabels(age_bin_names, ha='center')\n",
    "plt.show()"
   ]
  },
  {
   "cell_type": "markdown",
   "metadata": {
    "colab_type": "text",
    "id": "8pwcN7rQF8SA"
   },
   "source": [
    "17. height vs overall_rating scatter plotunu çizin."
   ]
  },
  {
   "cell_type": "code",
   "execution_count": 46,
   "metadata": {
    "colab": {},
    "colab_type": "code",
    "id": "4mocnpZRF8SA"
   },
   "outputs": [
    {
     "data": {
      "image/png": "[encoded data removed]",
      "text/plain": [
       "<Figure size 432x288 with 1 Axes>"
      ]
     },
     "metadata": {
      "needs_background": "light"
     },
     "output_type": "display_data"
    }
   ],
   "source": [
    "#plt.scatter(Player_Attributes[\"height\"], Player_Attributes[\"overall_rating\"])\n",
    "Player_Attributes.plot.scatter(x='height', y='overall_rating', title= \"Scatter plot between height and overall rating\");\n",
    "plt.show(block=True);"
   ]
  },
  {
   "cell_type": "markdown",
   "metadata": {
    "colab_type": "text",
    "id": "ni87Ei7pF8SC"
   },
   "source": [
    "18. BMI histogramını çizin."
   ]
  },
  {
   "cell_type": "code",
   "execution_count": 47,
   "metadata": {
    "colab": {},
    "colab_type": "code",
    "id": "ydyu-pboF8SD"
   },
   "outputs": [
    {
     "data": {
      "text/plain": [
       "array([[<matplotlib.axes._subplots.AxesSubplot object at 0x1a236bb950>]],\n",
       "      dtype=object)"
      ]
     },
     "execution_count": 47,
     "metadata": {},
     "output_type": "execute_result"
    },
    {
     "data": {
      "image/png": "[encoded data removed]",
      "text/plain": [
       "<Figure size 720x360 with 1 Axes>"
      ]
     },
     "metadata": {
      "needs_background": "light"
     },
     "output_type": "display_data"
    }
   ],
   "source": [
    "Player_Attributes.hist(column=\"BMI\",figsize=(10,5),bins=30, color='#0000FF') "
   ]
  },
  {
   "cell_type": "markdown",
   "metadata": {
    "colab_type": "text",
    "id": "fFTMDsURF8SE"
   },
   "source": [
    "19. BMI vs overall_rating histogramını çizin."
   ]
  },
  {
   "cell_type": "code",
   "execution_count": 48,
   "metadata": {
    "colab": {},
    "colab_type": "code",
    "id": "fcXbpJxdF8SF"
   },
   "outputs": [
    {
     "data": {
      "text/plain": [
       "array([<matplotlib.axes._subplots.AxesSubplot object at 0x1a1f1cc190>],\n",
       "      dtype=object)"
      ]
     },
     "execution_count": 48,
     "metadata": {},
     "output_type": "execute_result"
    },
    {
     "data": {
      "image/png": "[encoded data removed]",
      "text/plain": [
       "<Figure size 432x288 with 1 Axes>"
      ]
     },
     "metadata": {
      "needs_background": "light"
     },
     "output_type": "display_data"
    }
   ],
   "source": [
    "df1 = pd.DataFrame({\n",
    "    'BMI': Player_Attributes.BMI,\n",
    "    'overall_rating': Player_Attributes.overall_rating\n",
    "})\n",
    "\n",
    "df2 = df1.copy()\n",
    "fig, ax = plt.subplots()\n",
    "df1.hist(column=['BMI'], ax=ax)\n",
    "df2.hist(column=['overall_rating'], ax=ax)"
   ]
  },
  {
   "cell_type": "markdown",
   "metadata": {
    "colab_type": "text",
    "id": "L9gKQGSLF8SH"
   },
   "source": [
    "20. Aşağıda verilen attribute'ların overall_rating ile olan korelasyonunu inceleyin ve korelasyon değerlerini barchart olarak çizin."
   ]
  },
  {
   "cell_type": "code",
   "execution_count": 49,
   "metadata": {
    "colab": {},
    "colab_type": "code",
    "id": "Ib-6KnBYF8SH"
   },
   "outputs": [],
   "source": [
    "Numerical_Attributes = ['crossing', 'finishing', 'heading_accuracy',\n",
    "       'short_passing', 'volleys', 'dribbling', 'curve', 'free_kick_accuracy',\n",
    "       'long_passing', 'ball_control', 'acceleration', 'sprint_speed',\n",
    "       'agility', 'reactions', 'balance', 'shot_power', 'jumping', 'stamina',\n",
    "       'strength', 'long_shots', 'aggression', 'interceptions', 'positioning',\n",
    "       'vision', 'penalties', 'marking', 'standing_tackle', 'sliding_tackle']"
   ]
  },
  {
   "cell_type": "code",
   "execution_count": 50,
   "metadata": {
    "colab": {},
    "colab_type": "code",
    "id": "9bC2PusTF8SJ"
   },
   "outputs": [],
   "source": [
    "def calculateCorelation(data,Numerical_Attributes):\n",
    "    #find strength of relationship between two features.\n",
    "    for i in range(len(Numerical_Attributes)) :\n",
    "        print(data['overall_rating'].corr(data[Numerical_Attributes[i]]))"
   ]
  },
  {
   "cell_type": "code",
   "execution_count": 51,
   "metadata": {},
   "outputs": [
    {
     "name": "stdout",
     "output_type": "stream",
     "text": [
      "0.35769855309822446\n",
      "0.3292975103897244\n",
      "0.31409949831588163\n",
      "0.45836073862617793\n",
      "0.3590360786226486\n",
      "0.3543235452126292\n",
      "0.3553625898424826\n",
      "0.3495923397232868\n",
      "0.43501778022924187\n",
      "0.4442572227999937\n",
      "0.24565523205744627\n",
      "0.25484121894612877\n",
      "0.2382806841611447\n",
      "0.7692457630342159\n",
      "0.15928396318288024\n",
      "0.42799581258472713\n",
      "0.25727926220172137\n",
      "0.32745560583464256\n",
      "0.31866050644064386\n",
      "0.3923816342074775\n",
      "0.32393393386197267\n",
      "0.2503696336340027\n",
      "0.3700192122478141\n",
      "0.428233733953158\n",
      "0.39318875273813364\n",
      "0.13337650853562014\n",
      "0.1653491973648783\n",
      "0.12802095403206154\n"
     ]
    }
   ],
   "source": [
    "calculateCorelation(Player_Attributes,Numerical_Attributes)"
   ]
  },
  {
   "cell_type": "code",
   "execution_count": 52,
   "metadata": {},
   "outputs": [],
   "source": [
    "def plotCorrelation(data):\n",
    "    x=pd.DataFrame(data, columns = Numerical_Attributes)\n",
    "    corr = x.corr()\n",
    "    ax = sns.heatmap(\n",
    "    corr, \n",
    "    vmin=-1, vmax=1, center=0,\n",
    "    cmap=sns.diverging_palette(500, 500, n=300),\n",
    "    square=True\n",
    "    )\n",
    "    ax.set_xticklabels(\n",
    "    ax.get_xticklabels(),\n",
    "    rotation=45,\n",
    "    horizontalalignment='right'\n",
    "    );"
   ]
  },
  {
   "cell_type": "code",
   "execution_count": 53,
   "metadata": {},
   "outputs": [
    {
     "data": {
      "image/png": "[encoded data removed]",
      "text/plain": [
       "<Figure size 432x288 with 2 Axes>"
      ]
     },
     "metadata": {
      "needs_background": "light"
     },
     "output_type": "display_data"
    }
   ],
   "source": [
    "plotCorrelation(Player_Attributes)"
   ]
  }
 ],
 "metadata": {
  "colab": {
   "name": "DSS Mini Project - European Soccer Dataset.ipynb",
   "provenance": []
  },
  "kernelspec": {
   "display_name": "Python 3",
   "language": "python",
   "name": "python3"
  },
  "language_info": {
   "codemirror_mode": {
    "name": "ipython",
    "version": 3
   },
   "file_extension": ".py",
   "mimetype": "text/x-python",
   "name": "python",
   "nbconvert_exporter": "python",
   "pygments_lexer": "ipython3",
   "version": "3.7.4"
  }
 },
 "nbformat": 4,
 "nbformat_minor": 1
}
