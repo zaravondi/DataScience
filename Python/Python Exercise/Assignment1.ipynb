{
 "cells": [
  {
   "cell_type": "code",
   "execution_count": 57,
   "metadata": {},
   "outputs": [
    {
     "name": "stdout",
     "output_type": "stream",
     "text": [
      "Loading word list from file...\n",
      "   55900 words loaded.\n"
     ]
    }
   ],
   "source": [
    "#!/usr/bin/env python3\n",
    "# -*- coding: utf-8 -*-\n",
    "\"\"\"\n",
    "Created on Sun Sep  6 12:53:04 2020\n",
    "\n",
    "@author: betulyazici\n",
    "\"\"\"\n",
    "\n",
    "import random\n",
    "import string\n",
    "\n",
    "WORDLIST_FILENAME = \"words.txt\"\n",
    "\n",
    "def load_words():\n",
    "    print(\"Loading word list from file...\")\n",
    "    inFile = open(WORDLIST_FILENAME, 'r')\n",
    "    line = inFile.readline()\n",
    "    wordlist = line.split()\n",
    "    print(\"  \", len(wordlist), \"words loaded.\")\n",
    "    return wordlist\n",
    "\n",
    "wordlist = load_words()\n",
    "\n",
    "def choose_word(wordlist):\n",
    "    \n",
    "    return random.choice(wordlist)\n"
   ]
  },
  {
   "cell_type": "code",
   "execution_count": 58,
   "metadata": {},
   "outputs": [
    {
     "name": "stdout",
     "output_type": "stream",
     "text": [
      "False\n"
     ]
    }
   ],
   "source": [
    "##PART 1A Determine whether the word has been guessed\n",
    "def is_word_guessed(secret_word, letters_guessed):\n",
    "    guessed = False #initialize the return object\n",
    "    for char in secret_word:\n",
    "       if (char in letters_guessed) == False:\n",
    "        guessed = False\n",
    "        break\n",
    "       else:\n",
    "        guessed = True\n",
    "    \n",
    "    return guessed\n",
    "\n",
    "\n",
    "if __name__ == \"__main__\":\n",
    "    \n",
    "    secret_word = choose_word(wordlist)\n",
    "    \n",
    "    secret_word = 'apple'\n",
    "    letters_guessed = ['e', 'i', 'k', 'p', 'r', 's'] \n",
    "    print(is_word_guessed(secret_word, letters_guessed) )"
   ]
  },
  {
   "cell_type": "code",
   "execution_count": 59,
   "metadata": {},
   "outputs": [
    {
     "name": "stdout",
     "output_type": "stream",
     "text": [
      "_ pp_ e\n"
     ]
    }
   ],
   "source": [
    "##PART 1B Getting the user’s guess\n",
    "def get_guessed_word(secret_word, letters_guessed):\n",
    "    accurate_letters = [] #initialize and set the correct\n",
    "    #if a guessed letter is in the secret word, then store that accurate list.\n",
    "    for item in letters_guessed:\n",
    "      if item in secret_word:\n",
    "        accurate_letters.append(item)\n",
    "    guessed_string = \"\"  \n",
    "    #for each letter in the secret word, if it's been guessed, display it in the guessed_string, otherwise display \"_ \"\n",
    "    for item in secret_word:\n",
    "      if item in accurate_letters:\n",
    "        guessed_string += item\n",
    "      else:\n",
    "        guessed_string += \"_ \"\n",
    "    \n",
    "    return guessed_string\n",
    "\n",
    "secret_word = 'apple'\n",
    "letters_guessed = ['e', 'i', 'k', 'p', 'r', 's']\n",
    "#letters_guessed = ['a', 'p', 'l', 'e']\n",
    "print(get_guessed_word(secret_word, letters_guessed) )"
   ]
  },
  {
   "cell_type": "code",
   "execution_count": 60,
   "metadata": {},
   "outputs": [
    {
     "name": "stdout",
     "output_type": "stream",
     "text": [
      "abcdfghjlmnoqtuvwxyz\n"
     ]
    }
   ],
   "source": [
    "##PART 1C Getting all available letters\n",
    "def get_available_letters(letters_guessed):\n",
    "    #this function use for find unguessed letters\n",
    "    #first get all available letters in lowercase\n",
    "    #print(string.ascii_lowercase)\n",
    "    letters = string.ascii_lowercase\n",
    "    unguessed = \"\" #use for return unguessed letter\n",
    "    for char in letters:\n",
    "      if char not in letters_guessed:\n",
    "        unguessed = unguessed + char\n",
    "    return unguessed\n",
    "\n",
    "letters_guessed = ['e', 'i', 'k', 'p', 'r', 's']\n",
    "print (get_available_letters(letters_guessed))"
   ]
  },
  {
   "cell_type": "code",
   "execution_count": 61,
   "metadata": {},
   "outputs": [],
   "source": [
    "def check_warnings(warnings_remaining, user_guess, duplicate_guesses, display):\n",
    "  warnings_remaining = warnings_remaining- 1\n",
    "  #dif user entered a nonvalid input or a repeat letter\n",
    "  if not user_guess.isalpha(): \n",
    "    print('That is not a valid letter. You have ' + str(warnings_remaining) + ' warnings left: ' + display)\n",
    "  elif user_guess in duplicate_guesses:\n",
    "    print('You\\'ve already guessed that letter. You have ' + str(warnings_remaining) + ' warnings left. ' + display)\n",
    "  return warnings_remaining"
   ]
  },
  {
   "cell_type": "code",
   "execution_count": 62,
   "metadata": {},
   "outputs": [],
   "source": [
    "def uniqueLetters(secret_word):\n",
    "    unique_letters = ''\n",
    "    for letter in secret_word:\n",
    "        if letter not in unique_letters:\n",
    "            unique_letters += letter\n",
    "            \n",
    "    return unique_letters"
   ]
  },
  {
   "cell_type": "code",
   "execution_count": 63,
   "metadata": {},
   "outputs": [],
   "source": [
    "def check_guesses(guesses_remaining, user_guess, duplicate_guesses, display):\n",
    "  guesses_remaining = guesses_remaining- 1\n",
    "  if not user_guess.isalpha():\n",
    "    print(\"Oops! That is not a valid letter. You have no warnings left so you lose one guess. \" + display)\n",
    "  elif user_guess in duplicate_guesses: \n",
    "    print('Oops! You\\'ve already guessed that letter. You have no warnings left so you lose one guess: ' + display)\n",
    "  else:\n",
    "    print('Oops! That letter is not in my word: ' + display)\n",
    "  return guesses_remaining"
   ]
  },
  {
   "cell_type": "code",
   "execution_count": 64,
   "metadata": {},
   "outputs": [],
   "source": [
    "##PART 2A\n",
    "\n",
    "def hangman(secret_word):\n",
    "    letters_guessed = []\n",
    "    duplicate_guesses = [] #used to store duplicate guesses\n",
    "    vowel_list=['a', 'e', 'i', 'o', 'u']\n",
    "    warnings_remaining = 3\n",
    "    guesses_remaining = 6\n",
    "    display = '_ ' * len(secret_word)#display used to show the guessed string \n",
    "    unique_letters=uniqueLetters(secret_word)  #calculate the number of unique letters in the word\n",
    "    print('Welcome to the Hangman Game!')\n",
    "    print(\"I'm thinking of a word that is \" + str(len(secret_word)) + \" letters long.\")\n",
    "    print('You have ' + str(warnings_remaining) + ' warnings left.')\n",
    "    \n",
    "    while True: \n",
    "        letters_left = get_available_letters(letters_guessed)\n",
    "        print('You have ' + str(guesses_remaining) + ' guesses left.')\n",
    "        print('Available letters: ' + letters_left)\n",
    "        user_guess = (input('Please guess a letter: ')).lower()\n",
    "    \n",
    "        if not user_guess.isalpha():#check entered input.#if user did not enter a letter continue\n",
    "            if warnings_remaining > 0: #  first reduce warnings; if no warnings, reduce guesses\n",
    "                warnings_remaining = check_warnings(warnings_remaining, user_guess, duplicate_guesses, display)\n",
    "            elif guesses_remaining > 1: \n",
    "                guesses_remaining = check_guesses(guesses_remaining, user_guess, duplicate_guesses, display)\n",
    "            else: \n",
    "                print('Sorry, you ran out of guesses. The word was ' + secret_word + '.')\n",
    "                break\n",
    "      \n",
    "        else:\n",
    "          if user_guess not in letters_guessed: #add the guess to the letters guessed\n",
    "            letters_guessed.append(user_guess)\n",
    "          #checks if the user guessed all the correct letters\n",
    "          game_over = is_word_guessed(secret_word, letters_guessed)\n",
    "      \n",
    "      #break out of the loop if all letters are guessed correctly\n",
    "          if game_over:\n",
    "              display = get_guessed_word(secret_word, letters_guessed)\n",
    "              print('Good guess: ' + display)\n",
    "              print('-----------------')\n",
    "              print('Congratulations, you won!')\n",
    "              total_score = guesses_remaining*len(unique_letters)\n",
    "              print('Your total score for this game is: ' + str(total_score))\n",
    "              break\n",
    "          \n",
    "          elif user_guess in duplicate_guesses: #else check if the guess has already been guessed\n",
    "              if warnings_remaining > 0: \n",
    "                  warnings_remaining = check_warnings(warnings_remaining, user_guess, duplicate_guesses, display)\n",
    "              elif guesses_remaining > 1:\n",
    "                    guesses_remaining = check_guesses(guesses_remaining, user_guess, duplicate_guesses, display)\n",
    "          elif (not (user_guess in duplicate_guesses)) and user_guess in secret_word:\n",
    "                  display = get_guessed_word(secret_word, letters_guessed)\n",
    "                  print('Good guess: ' + display)\n",
    "                  print('-----------------')\n",
    "          #else check if guess is in the word; if false: \n",
    "          elif user_guess not in secret_word:\n",
    "                  if user_guess in vowel_list and guesses_remaining > 1:\n",
    "              #minus 2 guesses if it's a vowel, one subtract below code and one subtract check_guesses function \n",
    "                    guesses_remaining = guesses_remaining - 1\n",
    "                    guesses_remaining = check_guesses(guesses_remaining, user_guess, duplicate_guesses, display)\n",
    "                  elif guesses_remaining > 1:\n",
    "                        guesses_remaining = check_guesses(guesses_remaining, user_guess, duplicate_guesses, display)\n",
    "                  else:\n",
    "                       print('Oops! That letter is not in my word: ' + display)\n",
    "                       print('-----------------')\n",
    "                       print('Sorry, you ran out of guesses. The word was ' + secret_word + '.')\n",
    "                       break\n",
    "            \n",
    "          duplicate_guesses.append(user_guess)\n",
    "\n",
    "    "
   ]
  },
  {
   "cell_type": "code",
   "execution_count": null,
   "metadata": {
    "scrolled": true
   },
   "outputs": [
    {
     "name": "stdout",
     "output_type": "stream",
     "text": [
      "Welcome to the Hangman Game!\n",
      "I'm thinking of a word that is 6 letters long.\n",
      "You have 3 warnings left.\n",
      "You have 6 guesses left.\n",
      "Available letters: abcdefghijklmnopqrstuvwxyz\n"
     ]
    }
   ],
   "source": [
    "if __name__ == \"__main__\":\n",
    "    secret_word = choose_word(wordlist)\n",
    "    hangman(secret_word)"
   ]
  },
  {
   "cell_type": "code",
   "execution_count": null,
   "metadata": {},
   "outputs": [],
   "source": [
    "secret_word = choose_word(wordlist)\n",
    "hangman(secret_word)"
   ]
  },
  {
   "cell_type": "code",
   "execution_count": null,
   "metadata": {},
   "outputs": [],
   "source": [
    "#PART 3 helper functions1\n",
    "def match_with_gaps(my_word, other_word):\n",
    "    my_word_no_blanks = my_word.replace(\" \",\"\") #discard the blanks\n",
    "    length_of_my_word_no_blanks= len(my_word_no_blanks)\n",
    "    letters_my_word = list(my_word_no_blanks)\n",
    "    #print(letters_my_word)\n",
    "    if len(other_word) == length_of_my_word_no_blanks:\n",
    "        for i in range(length_of_my_word_no_blanks):\n",
    "            if my_word_no_blanks[i] == other_word[i]:\n",
    "                continue\n",
    "            elif  my_word_no_blanks[i] == \"_\" and other_word[i] not in letters_my_word:\n",
    "                continue\n",
    "            else:\n",
    "                return False\n",
    "       \n",
    "        return True     #if two empty string given inputs return true.   \n",
    "    else:\n",
    "        return False\n",
    " "
   ]
  },
  {
   "cell_type": "code",
   "execution_count": null,
   "metadata": {},
   "outputs": [],
   "source": [
    "#match_with_gaps(\"te_ t\", \"tact\")\n",
    "#match_with_gaps(\"a_ _ le\", \"banana\")\n",
    "match_with_gaps(\"a_ _ le\", \"apple\")\n",
    "#match_with_gaps(\"\", \"\")"
   ]
  },
  {
   "cell_type": "code",
   "execution_count": null,
   "metadata": {},
   "outputs": [],
   "source": [
    "#PART 3 helper functions2\n",
    "def show_possible_matches(my_word):\n",
    "    possible_matches = \"\"\n",
    "    for other_word in wordlist:\n",
    "        if match_with_gaps(my_word, other_word):\n",
    "            possible_matches = possible_matches +(other_word + \" \")\n",
    "        # If the word in wordlist and a possible match add list\n",
    "        else:\n",
    "            continue\n",
    "    if possible_matches == \"\":\n",
    "        print(\"No matches found\")\n",
    "    else:\n",
    "        print(possible_matches)"
   ]
  },
  {
   "cell_type": "code",
   "execution_count": null,
   "metadata": {},
   "outputs": [],
   "source": [
    "#print(show_possible_matches(\"a_ pl_ \"))\n",
    "show_possible_matches(\"t_ _ t\")"
   ]
  }
 ],
 "metadata": {
  "kernelspec": {
   "display_name": "Python 3",
   "language": "python",
   "name": "python3"
  },
  "language_info": {
   "codemirror_mode": {
    "name": "ipython",
    "version": 3
   },
   "file_extension": ".py",
   "mimetype": "text/x-python",
   "name": "python",
   "nbconvert_exporter": "python",
   "pygments_lexer": "ipython3",
   "version": "3.7.4"
  }
 },
 "nbformat": 4,
 "nbformat_minor": 2
}
