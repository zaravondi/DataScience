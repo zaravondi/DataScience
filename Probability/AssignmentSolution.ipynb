{
 "cells": [
  {
   "cell_type": "code",
   "execution_count": 59,
   "metadata": {},
   "outputs": [],
   "source": [
    "class Weather():\n",
    "        def __init__(self, Outlook, Temp,Humidity,Windy,Play):\n",
    "            self.Outlook = Outlook\n",
    "            self.Temp = Temp\n",
    "            self.Humidity = Humidity\n",
    "            self.Windy = Windy\n",
    "            self.Play = Play\n",
    "            "
   ]
  },
  {
   "cell_type": "code",
   "execution_count": 60,
   "metadata": {},
   "outputs": [],
   "source": [
    "def WeatherList():\n",
    "    #degerler slaytdan alınmıştır\n",
    "    weatherList = []\n",
    "    weatherList.append(Weather(\"Sunny\",\"Hot\",\"High\",\"F\",\"No\"))\n",
    "    weatherList.append(Weather(\"Sunny\",\"Hot\",\"High\",\"T\",\"No\"))\n",
    "    weatherList.append(Weather(\"Overcast\",\"Hot\",\"High\",\"F\",\"Yes\"))\n",
    "    weatherList.append(Weather(\"Rainy\",\"Mild\",\"High\",\"F\",\"Yes\"))\n",
    "    weatherList.append(Weather(\"Rainy\",\"Cool\",\"Normal\",\"F\",\"Yes\"))\n",
    "    weatherList.append(Weather(\"Rainy\",\"Cool\",\"Normal\",\"T\",\"No\"))\n",
    "    weatherList.append(Weather(\"Overcast\",\"Cool\",\"Normal\",\"T\",\"Yes\"))\n",
    "    weatherList.append(Weather(\"Sunny\",\"Mild\",\"High\",\"F\",\"No\"))\n",
    "    weatherList.append(Weather(\"Sunny\",\"Cool\",\"Normal\",\"F\",\"Yes\"))\n",
    "    weatherList.append(Weather(\"Rainy\",\"Mild\",\"Normal\",\"F\",\"Yes\"))\n",
    "    weatherList.append(Weather(\"Sunny\",\"Mild\",\"Normal\",\"T\",\"Yes\"))\n",
    "    weatherList.append(Weather(\"Overcast\",\"Mild\",\"High\",\"T\",\"Yes\"))\n",
    "    weatherList.append(Weather(\"Overcast\",\"Hot\",\"Normal\",\"F\",\"Yes\"))\n",
    "    weatherList.append(Weather(\"Rainy\",\"Mild\",\"High\",\"T\",\"No\"))\n",
    "    return weatherList"
   ]
  },
  {
   "cell_type": "code",
   "execution_count": 61,
   "metadata": {},
   "outputs": [],
   "source": [
    "def mappingForOutlook(value):\n",
    "    if(value == \"Sunny\"):\n",
    "        return 0\n",
    "    elif(value == \"Overcast\"):\n",
    "        return 1\n",
    "    else:\n",
    "        return 2"
   ]
  },
  {
   "cell_type": "code",
   "execution_count": 62,
   "metadata": {},
   "outputs": [],
   "source": [
    "def mappingForTemp(value):\n",
    "    if(value == \"Hot\"):\n",
    "        return 0\n",
    "    elif(value == \"Mild\"):\n",
    "        return 1\n",
    "    else:\n",
    "        return 2"
   ]
  },
  {
   "cell_type": "code",
   "execution_count": 63,
   "metadata": {},
   "outputs": [],
   "source": [
    "def mappingForHumidity(value):\n",
    "    if(value == \"High\"):\n",
    "        return 0\n",
    "    else:\n",
    "        return 1"
   ]
  },
  {
   "cell_type": "code",
   "execution_count": 64,
   "metadata": {},
   "outputs": [],
   "source": [
    "def mappingForWindy(value):\n",
    "    if(value == \"T\"):\n",
    "        return 1\n",
    "    else:\n",
    "        return 0"
   ]
  },
  {
   "cell_type": "code",
   "execution_count": 65,
   "metadata": {},
   "outputs": [],
   "source": [
    "def mappingForLabel(value):\n",
    "    if(value == \"Yes\"):\n",
    "        return 1\n",
    "    else:\n",
    "        return 0"
   ]
  },
  {
   "cell_type": "code",
   "execution_count": 66,
   "metadata": {},
   "outputs": [],
   "source": [
    "def changeData():\n",
    "    weatherList=WeatherList();\n",
    "    data = []\n",
    "    outcome = []\n",
    "    for i in range(len(weatherList)):\n",
    "        data.append([mappingForOutlook(weatherList[i].Outlook),\n",
    "                     mappingForTemp(weatherList[i].Temp),\n",
    "                     mappingForHumidity(weatherList[i].Humidity),\n",
    "                     mappingForWindy(weatherList[i].Windy)])\n",
    "        outcome.append(mappingForLabel(weatherList[i].Play))\n",
    "\n",
    "    data = np.asarray(data)     \n",
    "    outcome = np.asarray(outcome)\n",
    "    return data,outcome"
   ]
  },
  {
   "cell_type": "code",
   "execution_count": 118,
   "metadata": {},
   "outputs": [],
   "source": [
    "\n",
    "#Function for calculating the prior probabilities\n",
    "def occurrences(outcome):\n",
    "    no_of_examples = len(outcome)\n",
    "    prob = dict(Counter(outcome))\n",
    "    for key in prob.keys():\n",
    "        if(prob[key]):\n",
    "            prob[key] = prob[key] / float(no_of_examples)\n",
    "        else:\n",
    "            prob[key] = (prob[key]+1) / float(no_of_examples+1) \n",
    "    return prob\n",
    "\n",
    "\n",
    "\n",
    "def naive_bayes(training, outcome, new_sample):\n",
    "    classes     = np.unique(outcome)\n",
    "    rows, cols  = np.shape(training)\n",
    "    likelihoods = {}\n",
    "    likelihoods_prob = {}\n",
    "    for cls in classes:\n",
    "        likelihoods[cls] = defaultdict(list)\n",
    "        likelihoods_prob[cls] = defaultdict(list)\n",
    "    class_probabilities = occurrences(outcome)\n",
    " \n",
    "    for cls in classes:\n",
    "        row_indices = np.where(outcome == cls)[0]\n",
    "        subset      = training[row_indices, :]\n",
    "        r, c        = np.shape(subset)\n",
    "        for j in range(0,c):\n",
    "            likelihoods[cls][j] += list(subset[:,j])\n",
    "            #the occurrences for each feature is saved in likelihoods\n",
    " \n",
    "    for cls in classes:\n",
    "        for j in range(0,cols):\n",
    "             likelihoods_prob[cls][j] = occurrences(likelihoods[cls][j])\n",
    "             #likelihoods_prob contain the probabilities per feature per class.\n",
    " \n",
    "    results = {}\n",
    "    for cls in classes:\n",
    "         class_probability = class_probabilities[cls]\n",
    "         for i in range(0,len(new_sample)):\n",
    "             relative_values = likelihoods_prob[cls][i]\n",
    "             if new_sample[i] in relative_values.keys():\n",
    "                 class_probability *= relative_values[new_sample[i]]\n",
    "             #else:\n",
    "               #  class_probability *= 0\n",
    "             results[cls] = class_probability\n",
    "    #print (results)\n",
    "    return results\n",
    " \n"
   ]
  },
  {
   "cell_type": "code",
   "execution_count": 145,
   "metadata": {},
   "outputs": [
    {
     "name": "stdout",
     "output_type": "stream",
     "text": [
      "{0: 0.024691358024691357, 1: 0.03292181069958847}\n",
      "{0: 0.14814814814814814, 1: 0.008230452674897118}\n",
      "{0: 0.024691358024691357, 1: 0.008230452674897118}\n",
      "{0: 0.037037037037037035, 1: 0.016460905349794237}\n",
      "{0: 0.07407407407407407, 1: 0.024691358024691357}\n",
      "Accuracy: 0.600000\n",
      "Precision: 1.000000\n",
      "Specificty: 1.000000\n",
      "Sensitivity: 0.333333\n"
     ]
    }
   ],
   "source": [
    "import csv\n",
    "import random\n",
    "import math\n",
    "import numpy as np\n",
    "from collections import Counter, defaultdict\n",
    "from sklearn.model_selection import train_test_split\n",
    "from sklearn.metrics import confusion_matrix\n",
    "random.seed() \n",
    "data,outcome = changeData()\n",
    "X_train, X_test, y_train, y_test = train_test_split(data, outcome, test_size=0.30, random_state=42)\n",
    "y_pred = []\n",
    "\n",
    "\n",
    "for i in range(len(X_test)):\n",
    "    result=naive_bayes(X_train, y_train, X_test[i])\n",
    "    if(result[0]>result[1]):\n",
    "        y_predic=0\n",
    "    else:\n",
    "        y_predic=1\n",
    "    y_pred.append(y_predic)\n",
    "y_pred = np.asarray(y_predict)  \n",
    "confusionMatrix = confusion_matrix(y_test, y_pred)\n",
    "\n",
    "TrueNegative=confusionMatrix[0,0]\n",
    "TruePositive=confusionMatrix[1,1]\n",
    "FalsePositive=confusionMatrix[0,1]\n",
    "FalseNegative=confusionMatrix[1,0]\n",
    "\n",
    "accuracy=(TruePositive+TrueNegative)/(TrueNegative+TruePositive+FalsePositive+FalseNegative)\n",
    "precision=(TruePositive)/(TruePositive+FalsePositive)\n",
    "specificty=(TrueNegative)/(TrueNegative+FalsePositive)\n",
    "sensitivity=(TruePositive)/( TruePositive+FalseNegative)\n",
    "print('Accuracy: %f' % accuracy)\n",
    "print('Precision: %f' % precision)\n",
    "print('Specificty: %f' % specificty)\n",
    "print('Sensitivity: %f' % sensitivity)"
   ]
  }
 ],
 "metadata": {
  "kernelspec": {
   "display_name": "Python 3",
   "language": "python",
   "name": "python3"
  },
  "language_info": {
   "codemirror_mode": {
    "name": "ipython",
    "version": 3
   },
   "file_extension": ".py",
   "mimetype": "text/x-python",
   "name": "python",
   "nbconvert_exporter": "python",
   "pygments_lexer": "ipython3",
   "version": "3.7.4"
  }
 },
 "nbformat": 4,
 "nbformat_minor": 2
}
