{
 "cells": [
  {
   "cell_type": "code",
   "execution_count": 1,
   "metadata": {},
   "outputs": [
    {
     "name": "stdout",
     "output_type": "stream",
     "text": [
      "   CLIENTNUM     Attrition_Flag  Customer_Age Gender  Dependent_count  \\\n",
      "0  768805383  Existing Customer            45      M                3   \n",
      "1  818770008  Existing Customer            49      F                5   \n",
      "2  713982108  Existing Customer            51      M                3   \n",
      "3  769911858  Existing Customer            40      F                4   \n",
      "4  709106358  Existing Customer            40      M                3   \n",
      "\n",
      "  Education_Level Marital_Status Income_Category Card_Category  \\\n",
      "0     High School        Married     $60K - $80K          Blue   \n",
      "1        Graduate         Single  Less than $40K          Blue   \n",
      "2        Graduate        Married    $80K - $120K          Blue   \n",
      "3     High School        Unknown  Less than $40K          Blue   \n",
      "4      Uneducated        Married     $60K - $80K          Blue   \n",
      "\n",
      "   Months_on_book  ...  Credit_Limit  Total_Revolving_Bal  Avg_Open_To_Buy  \\\n",
      "0              39  ...       12691.0                  777          11914.0   \n",
      "1              44  ...        8256.0                  864           7392.0   \n",
      "2              36  ...        3418.0                    0           3418.0   \n",
      "3              34  ...        3313.0                 2517            796.0   \n",
      "4              21  ...        4716.0                    0           4716.0   \n",
      "\n",
      "   Total_Amt_Chng_Q4_Q1  Total_Trans_Amt  Total_Trans_Ct  Total_Ct_Chng_Q4_Q1  \\\n",
      "0                 1.335             1144              42                1.625   \n",
      "1                 1.541             1291              33                3.714   \n",
      "2                 2.594             1887              20                2.333   \n",
      "3                 1.405             1171              20                2.333   \n",
      "4                 2.175              816              28                2.500   \n",
      "\n",
      "   Avg_Utilization_Ratio  \\\n",
      "0                  0.061   \n",
      "1                  0.105   \n",
      "2                  0.000   \n",
      "3                  0.760   \n",
      "4                  0.000   \n",
      "\n",
      "   Naive_Bayes_Classifier_Attrition_Flag_Card_Category_Contacts_Count_12_mon_Dependent_count_Education_Level_Months_Inactive_12_mon_1  \\\n",
      "0                                           0.000093                                                                                    \n",
      "1                                           0.000057                                                                                    \n",
      "2                                           0.000021                                                                                    \n",
      "3                                           0.000134                                                                                    \n",
      "4                                           0.000022                                                                                    \n",
      "\n",
      "   Naive_Bayes_Classifier_Attrition_Flag_Card_Category_Contacts_Count_12_mon_Dependent_count_Education_Level_Months_Inactive_12_mon_2  \n",
      "0                                            0.99991                                                                                   \n",
      "1                                            0.99994                                                                                   \n",
      "2                                            0.99998                                                                                   \n",
      "3                                            0.99987                                                                                   \n",
      "4                                            0.99998                                                                                   \n",
      "\n",
      "[5 rows x 23 columns]\n"
     ]
    }
   ],
   "source": [
    "import pandas as pd\n",
    "import numpy as np\n",
    "from sklearn.model_selection import train_test_split # Import train_test_split function\n",
    "from sklearn import metrics #Import scikit-learn metrics module for accuracy calculation\n",
    "from sklearn.metrics import roc_auc_score\n",
    "from sklearn.metrics import confusion_matrix\n",
    "from sklearn.metrics import precision_score\n",
    "from sklearn.metrics import recall_score\n",
    "from sklearn.metrics import f1_score\n",
    "from sklearn import svm\n",
    "\n",
    "\n",
    "# load dataset\n",
    "df = pd.read_csv(\"BankChurners.csv\")\n",
    "\n",
    "print(df.head())\n",
    "\n",
    "feature_cols = ['Customer_Age', 'Gender',\n",
    "       'Dependent_count', 'Education_Level', 'Marital_Status',\n",
    "       'Income_Category', 'Card_Category', 'Months_on_book',\n",
    "       'Total_Relationship_Count', 'Months_Inactive_12_mon',\n",
    "       'Contacts_Count_12_mon', 'Credit_Limit', 'Total_Revolving_Bal',\n",
    "       'Avg_Open_To_Buy', 'Total_Amt_Chng_Q4_Q1', 'Total_Trans_Amt',\n",
    "       'Total_Trans_Ct', 'Total_Ct_Chng_Q4_Q1', 'Avg_Utilization_Ratio',\n",
    "       'Naive_Bayes_Classifier_Attrition_Flag_Card_Category_Contacts_Count_12_mon_Dependent_count_Education_Level_Months_Inactive_12_mon_1',\n",
    "       'Naive_Bayes_Classifier_Attrition_Flag_Card_Category_Contacts_Count_12_mon_Dependent_count_Education_Level_Months_Inactive_12_mon_2']\n",
    "\n"
   ]
  },
  {
   "cell_type": "code",
   "execution_count": 2,
   "metadata": {},
   "outputs": [
    {
     "data": {
      "text/plain": [
       "Attrition_Flag                                                                                                                        0\n",
       "Customer_Age                                                                                                                          0\n",
       "Gender                                                                                                                                0\n",
       "Dependent_count                                                                                                                       0\n",
       "Education_Level                                                                                                                       0\n",
       "Marital_Status                                                                                                                        0\n",
       "Income_Category                                                                                                                       0\n",
       "Card_Category                                                                                                                         0\n",
       "Months_on_book                                                                                                                        0\n",
       "Total_Relationship_Count                                                                                                              0\n",
       "Months_Inactive_12_mon                                                                                                                0\n",
       "Contacts_Count_12_mon                                                                                                                 0\n",
       "Credit_Limit                                                                                                                          0\n",
       "Total_Revolving_Bal                                                                                                                   0\n",
       "Avg_Open_To_Buy                                                                                                                       0\n",
       "Total_Amt_Chng_Q4_Q1                                                                                                                  0\n",
       "Total_Trans_Amt                                                                                                                       0\n",
       "Total_Trans_Ct                                                                                                                        0\n",
       "Total_Ct_Chng_Q4_Q1                                                                                                                   0\n",
       "Avg_Utilization_Ratio                                                                                                                 0\n",
       "Naive_Bayes_Classifier_Attrition_Flag_Card_Category_Contacts_Count_12_mon_Dependent_count_Education_Level_Months_Inactive_12_mon_1    0\n",
       "Naive_Bayes_Classifier_Attrition_Flag_Card_Category_Contacts_Count_12_mon_Dependent_count_Education_Level_Months_Inactive_12_mon_2    0\n",
       "dtype: int64"
      ]
     },
     "execution_count": 2,
     "metadata": {},
     "output_type": "execute_result"
    }
   ],
   "source": [
    "#preprocess\n",
    "df['Attrition_Flag'] = df['Attrition_Flag'].replace({'Existing Customer':0, 'Attrited Customer':1})\n",
    "df.drop( \"CLIENTNUM\", inplace = True, axis = 1 )\n",
    "df['Gender'] = df['Gender'].replace({'M':0, 'F':1})\n",
    "df['Education_Level'] = df['Education_Level'].replace({'High School':0, 'Graduate':1, 'Uneducated':2, 'Unknown':3, 'College':4, 'Post-Graduate':5, 'Doctorate':6})\n",
    "df['Marital_Status'] = df['Marital_Status'].replace({'Married':0, 'Single':1, 'Unknown':2, 'Divorced':3})\n",
    "df['Income_Category'] = df['Income_Category'].replace({'$60K - $80K':0, 'Less than $40K':1, '$80K - $120K':2, '$40K - $60K':3, '$120K +':4, 'Unknown':5})\n",
    "df['Card_Category'] = df['Card_Category'].replace({'Blue':0, 'Gold':1, 'Silver':2, 'Platinum':3})\n",
    "df.isnull().sum() "
   ]
  },
  {
   "cell_type": "code",
   "execution_count": 3,
   "metadata": {},
   "outputs": [
    {
     "name": "stdout",
     "output_type": "stream",
     "text": [
      "      Customer_Age  Gender  Dependent_count  Education_Level  Marital_Status  \\\n",
      "8284            45       1                4                4               2   \n",
      "9863            29       0                1                1               3   \n",
      "5350            55       1                2                3               1   \n",
      "9641            51       1                3                2               0   \n",
      "5914            47       1                3                0               1   \n",
      "\n",
      "      Income_Category  Card_Category  Months_on_book  \\\n",
      "8284                1              0              40   \n",
      "9863                1              0              36   \n",
      "5350                5              0              36   \n",
      "9641                1              0              33   \n",
      "5914                1              0              31   \n",
      "\n",
      "      Total_Relationship_Count  Months_Inactive_12_mon  ...  Credit_Limit  \\\n",
      "8284                         1                       2  ...        1795.0   \n",
      "9863                         4                       3  ...        3839.0   \n",
      "5350                         4                       3  ...       10241.0   \n",
      "9641                         3                       3  ...        7428.0   \n",
      "5914                         5                       1  ...        2317.0   \n",
      "\n",
      "      Total_Revolving_Bal  Avg_Open_To_Buy  Total_Amt_Chng_Q4_Q1  \\\n",
      "8284                 1058            737.0                 0.778   \n",
      "9863                 1139           2700.0                 0.632   \n",
      "5350                 1545           8696.0                 0.581   \n",
      "9641                    0           7428.0                 0.873   \n",
      "5914                    0           2317.0                 0.570   \n",
      "\n",
      "      Total_Trans_Amt  Total_Trans_Ct  Total_Ct_Chng_Q4_Q1  \\\n",
      "8284             5575              73                0.738   \n",
      "9863            14791             124                0.771   \n",
      "5350             2513              47                0.424   \n",
      "9641             8078              62                0.722   \n",
      "5914             4894              89                0.854   \n",
      "\n",
      "      Avg_Utilization_Ratio  \\\n",
      "8284                  0.589   \n",
      "9863                  0.297   \n",
      "5350                  0.151   \n",
      "9641                  0.000   \n",
      "5914                  0.000   \n",
      "\n",
      "      Naive_Bayes_Classifier_Attrition_Flag_Card_Category_Contacts_Count_12_mon_Dependent_count_Education_Level_Months_Inactive_12_mon_1  \\\n",
      "8284                                           0.000070                                                                                    \n",
      "9863                                           0.000169                                                                                    \n",
      "5350                                           0.994970                                                                                    \n",
      "9641                                           0.996910                                                                                    \n",
      "5914                                           0.000093                                                                                    \n",
      "\n",
      "      Naive_Bayes_Classifier_Attrition_Flag_Card_Category_Contacts_Count_12_mon_Dependent_count_Education_Level_Months_Inactive_12_mon_2  \n",
      "8284                                           0.999930                                                                                   \n",
      "9863                                           0.999830                                                                                   \n",
      "5350                                           0.005030                                                                                   \n",
      "9641                                           0.003088                                                                                   \n",
      "5914                                           0.999910                                                                                   \n",
      "\n",
      "[5 rows x 21 columns]\n"
     ]
    }
   ],
   "source": [
    "X = df[feature_cols] # Features\n",
    "y = df.Attrition_Flag # Target variable\n",
    "\n",
    "# Split dataset into training set and test set\n",
    "X_train, X_test, y_train, y_test = train_test_split(X, y, test_size=0.3, random_state=1) # 70% training and 30% test\n",
    "\n",
    "print(X_train.head())"
   ]
  },
  {
   "cell_type": "code",
   "execution_count": 51,
   "metadata": {},
   "outputs": [
    {
     "name": "stdout",
     "output_type": "stream",
     "text": [
      "[[2537   14]\n",
      " [  83  405]]\n",
      "Accuracy: 0.9680816057913787\n",
      "AUC Score: 0.9122149944412671\n",
      "AUC Score prob: 0.9793901138094352\n",
      "Precision: 0.9665871121718377\n",
      "Recall: 0.8299180327868853\n",
      "F1 Score: 0.8930540242557882\n"
     ]
    }
   ],
   "source": [
    "svcf = svm.SVC(kernel='linear', probability=True)\n",
    "svcf.fit(X_train,y_train)\n",
    "y_pred = svcf.predict(X_test)\n",
    "\n",
    "y_pred_prob = svcf.predict_proba(X_test)[:,1]\n",
    "\n",
    "print(confusion_matrix(y_test, y_pred))\n",
    "print(\"Accuracy:\",metrics.accuracy_score(y_test, y_pred))\n",
    "print (\"AUC Score:\", roc_auc_score(y_test, y_pred))\n",
    "print (\"AUC Score prob:\", roc_auc_score(y_test, y_pred_prob))\n",
    "print (\"Precision:\", precision_score(y_test, y_pred))\n",
    "print (\"Recall:\", recall_score(y_test, y_pred))\n",
    "print (\"F1 Score:\", f1_score(y_test, y_pred))\n",
    "\n"
   ]
  },
  {
   "cell_type": "code",
   "execution_count": 6,
   "metadata": {},
   "outputs": [
    {
     "name": "stdout",
     "output_type": "stream",
     "text": [
      "[[2536   15]\n",
      " [  84  404]]\n",
      "Accuracy: 0.9674234945705824\n",
      "AUC Score: 0.91099440270932\n",
      "AUC Score prob: 0.9789085443831093\n",
      "Precision: 0.964200477326969\n",
      "Recall: 0.8278688524590164\n",
      "F1 Score: 0.8908489525909593\n"
     ]
    }
   ],
   "source": [
    "svcf = svm.SVC(kernel='linear', C=0.1, probability=True)\n",
    "svcf.fit(X_train,y_train)\n",
    "y_pred = svcf.predict(X_test)\n",
    "\n",
    "y_pred_prob = svcf.predict_proba(X_test)[:,1]\n",
    "\n",
    "print(confusion_matrix(y_test, y_pred))\n",
    "print(\"Accuracy:\",metrics.accuracy_score(y_test, y_pred))\n",
    "print (\"AUC Score:\", roc_auc_score(y_test, y_pred))\n",
    "print (\"AUC Score prob:\", roc_auc_score(y_test, y_pred_prob))\n",
    "print (\"Precision:\", precision_score(y_test, y_pred))\n",
    "print (\"Recall:\", recall_score(y_test, y_pred))\n",
    "print (\"F1 Score:\", f1_score(y_test, y_pred))"
   ]
  },
  {
   "cell_type": "code",
   "execution_count": 5,
   "metadata": {},
   "outputs": [
    {
     "name": "stdout",
     "output_type": "stream",
     "text": [
      "[[2534   17]\n",
      " [  89  399]]\n",
      "Accuracy: 0.9651201052977953\n",
      "AUC Score: 0.9054794487536229\n",
      "AUC Score prob: 0.9750628168959778\n",
      "Precision: 0.9591346153846154\n",
      "Recall: 0.8176229508196722\n",
      "F1 Score: 0.8827433628318584\n"
     ]
    }
   ],
   "source": [
    "svcf = svm.SVC(kernel='linear', C=10, probability=True)\n",
    "svcf.fit(X_train,y_train)\n",
    "y_pred = svcf.predict(X_test)\n",
    "\n",
    "y_pred_prob = svcf.predict_proba(X_test)[:,1]\n",
    "\n",
    "print(confusion_matrix(y_test, y_pred))\n",
    "print(\"Accuracy:\",metrics.accuracy_score(y_test, y_pred))\n",
    "print (\"AUC Score:\", roc_auc_score(y_test, y_pred))\n",
    "print (\"AUC Score prob:\", roc_auc_score(y_test, y_pred_prob))\n",
    "print (\"Precision:\", precision_score(y_test, y_pred))\n",
    "print (\"Recall:\", recall_score(y_test, y_pred))\n",
    "print (\"F1 Score:\", f1_score(y_test, y_pred))"
   ]
  },
  {
   "cell_type": "code",
   "execution_count": 4,
   "metadata": {},
   "outputs": [
    {
     "name": "stdout",
     "output_type": "stream",
     "text": [
      "[[2551    0]\n",
      " [ 488    0]]\n",
      "Accuracy: 0.8394208621256992\n",
      "AUC Score: 0.5\n",
      "AUC Score prob: 0.7031178708446061\n"
     ]
    }
   ],
   "source": [
    "svcf = svm.SVC(kernel='poly', probability=True)\n",
    "svcf.fit(X_train,y_train)\n",
    "y_pred = svcf.predict(X_test)\n",
    "\n",
    "y_pred_prob = svcf.predict_proba(X_test)[:,1]\n",
    "\n",
    "print(confusion_matrix(y_test, y_pred))\n",
    "print(\"Accuracy:\",metrics.accuracy_score(y_test, y_pred))\n",
    "print (\"AUC Score:\", roc_auc_score(y_test, y_pred))\n",
    "print (\"AUC Score prob:\", roc_auc_score(y_test, y_pred_prob))\n"
   ]
  },
  {
   "cell_type": "code",
   "execution_count": 5,
   "metadata": {},
   "outputs": [
    {
     "name": "stdout",
     "output_type": "stream",
     "text": [
      "[[2551    0]\n",
      " [ 488    0]]\n",
      "Accuracy: 0.8394208621256992\n",
      "AUC Score: 0.5\n",
      "AUC Score prob: 0.7479845576469529\n"
     ]
    }
   ],
   "source": [
    "svcf = svm.SVC(kernel='poly', degree = 2, probability=True)\n",
    "svcf.fit(X_train,y_train)\n",
    "y_pred = svcf.predict(X_test)\n",
    "\n",
    "y_pred_prob = svcf.predict_proba(X_test)[:,1]\n",
    "\n",
    "print(confusion_matrix(y_test, y_pred))\n",
    "print(\"Accuracy:\",metrics.accuracy_score(y_test, y_pred))\n",
    "print (\"AUC Score:\", roc_auc_score(y_test, y_pred))\n",
    "print (\"AUC Score prob:\", roc_auc_score(y_test, y_pred_prob))\n"
   ]
  },
  {
   "cell_type": "code",
   "execution_count": 4,
   "metadata": {},
   "outputs": [
    {
     "name": "stdout",
     "output_type": "stream",
     "text": [
      "[[2551    0]\n",
      " [ 488    0]]\n",
      "Accuracy: 0.8394208621256992\n",
      "AUC Score: 0.5\n",
      "AUC Score prob: 0.8317712115467415\n"
     ]
    }
   ],
   "source": [
    "svcf = svm.SVC(kernel='rbf', probability=True)\n",
    "svcf.fit(X_train,y_train)\n",
    "y_pred = svcf.predict(X_test)\n",
    "\n",
    "y_pred_prob = svcf.predict_proba(X_test)[:,1]\n",
    "\n",
    "print(confusion_matrix(y_test, y_pred))\n",
    "print(\"Accuracy:\",metrics.accuracy_score(y_test, y_pred))\n",
    "print (\"AUC Score:\", roc_auc_score(y_test, y_pred))\n",
    "print (\"AUC Score prob:\", roc_auc_score(y_test, y_pred_prob))\n"
   ]
  },
  {
   "cell_type": "code",
   "execution_count": null,
   "metadata": {},
   "outputs": [],
   "source": []
  }
 ],
 "metadata": {
  "kernelspec": {
   "display_name": "Python 3",
   "language": "python",
   "name": "python3"
  },
  "language_info": {
   "codemirror_mode": {
    "name": "ipython",
    "version": 3
   },
   "file_extension": ".py",
   "mimetype": "text/x-python",
   "name": "python",
   "nbconvert_exporter": "python",
   "pygments_lexer": "ipython3",
   "version": "3.7.4"
  }
 },
 "nbformat": 4,
 "nbformat_minor": 2
}
