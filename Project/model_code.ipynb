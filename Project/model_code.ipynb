{
 "cells": [
  {
   "cell_type": "code",
   "execution_count": null,
   "metadata": {
    "_cell_guid": "b1076dfc-b9ad-4769-8c92-a6c4dae69d19",
    "_uuid": "8f2839f25d086af736a60e9eeb907d3b93b6e0e5",
    "execution": {
     "iopub.execute_input": "2021-11-11T07:03:45.519985Z",
     "iopub.status.busy": "2021-11-11T07:03:45.519587Z",
     "iopub.status.idle": "2021-11-11T07:03:45.525704Z",
     "shell.execute_reply": "2021-11-11T07:03:45.524701Z",
     "shell.execute_reply.started": "2021-11-11T07:03:45.51995Z"
    }
   },
   "outputs": [],
   "source": [
    "import torch\n",
    "import torch.nn as nn\n",
    "import pandas as pd\n",
    "import numpy as np\n",
    "from gensim.models import KeyedVectors\n",
    "from tensorflow.keras import regularizers\n",
    "device = torch.device('cuda' if torch.cuda.is_available() else 'cpu')\n",
    "from sklearn.metrics import classification_report, confusion_matrix"
   ]
  },
  {
   "cell_type": "code",
   "execution_count": null,
   "metadata": {
    "execution": {
     "iopub.execute_input": "2021-11-11T06:49:50.043842Z",
     "iopub.status.busy": "2021-11-11T06:49:50.043284Z",
     "iopub.status.idle": "2021-11-11T06:49:50.173748Z",
     "shell.execute_reply": "2021-11-11T06:49:50.173038Z",
     "shell.execute_reply.started": "2021-11-11T06:49:50.043801Z"
    }
   },
   "outputs": [],
   "source": [
    "from tensorflow.keras.preprocessing import text, sequence\n",
    "from tensorflow.keras.layers import Dense, Embedding, Input\n",
    "from tensorflow.keras.layers import LSTM, Bidirectional, GlobalMaxPool1D, Dropout,GlobalAveragePooling1D,BatchNormalization\n",
    "from tensorflow.keras.models import Sequential,Model\n",
    "from tensorflow.keras.optimizers import SGD,Adam\n",
    "from tensorflow.keras import backend as K\n",
    "from sklearn.model_selection import train_test_split\n",
    "from tensorflow.keras.losses import CategoricalCrossentropy\n",
    "from tensorflow.keras.utils import to_categorical\n",
    "import tensorflow\n",
    "from tensorflow.keras import initializers\n",
    "from tensorflow.keras import regularizers"
   ]
  },
  {
   "cell_type": "code",
   "execution_count": null,
   "metadata": {
    "execution": {
     "iopub.execute_input": "2021-11-11T06:49:50.181972Z",
     "iopub.status.busy": "2021-11-11T06:49:50.181723Z",
     "iopub.status.idle": "2021-11-11T06:49:50.241754Z",
     "shell.execute_reply": "2021-11-11T06:49:50.241096Z",
     "shell.execute_reply.started": "2021-11-11T06:49:50.181939Z"
    }
   },
   "outputs": [],
   "source": [
    "data_pretrained = pd.read_csv('../input/data-processed-6/data_processed.csv')"
   ]
  },
  {
   "cell_type": "code",
   "execution_count": null,
   "metadata": {
    "execution": {
     "iopub.execute_input": "2021-11-11T06:49:50.243542Z",
     "iopub.status.busy": "2021-11-11T06:49:50.243078Z",
     "iopub.status.idle": "2021-11-11T06:49:50.25775Z",
     "shell.execute_reply": "2021-11-11T06:49:50.257039Z",
     "shell.execute_reply.started": "2021-11-11T06:49:50.243507Z"
    }
   },
   "outputs": [],
   "source": [
    "num_of_classes = data_pretrained['Category_Last'].unique().shape[0]\n",
    "num_of_classes"
   ]
  },
  {
   "cell_type": "code",
   "execution_count": null,
   "metadata": {
    "execution": {
     "iopub.execute_input": "2021-11-11T06:49:52.503999Z",
     "iopub.status.busy": "2021-11-11T06:49:52.503703Z",
     "iopub.status.idle": "2021-11-11T06:49:53.099223Z",
     "shell.execute_reply": "2021-11-11T06:49:53.098409Z",
     "shell.execute_reply.started": "2021-11-11T06:49:52.503968Z"
    }
   },
   "outputs": [],
   "source": [
    "X, y = data_pretrained['text_clean'],data_pretrained['Category_Last']\n",
    "max_features = 7500\n",
    "maxlen = 100\n",
    "tokenizer = text.Tokenizer(num_words=max_features,filters = '\"#$%&()*+-/:;<=>@[\\]^_`{|}~')\n",
    "\n",
    "\n",
    "X_train, X_test, y_train, y_test = train_test_split( X, y, test_size=0.08, random_state=66)\n",
    "y_train,y_test = to_categorical(y_train,num_classes=num_of_classes),to_categorical(y_test,num_classes=num_of_classes)\n",
    "\n",
    "X_train= X_train.astype(\"str\")\n",
    "X_test= X_test.astype(\"str\")\n",
    "\n",
    "tokenizer.fit_on_texts((X_train))#tokenizerın sadece train datasını görüp tokenleri de train datasına \n",
    "#göre çıkarmasını sağlıyor\n",
    "\n",
    "\n",
    "\n",
    "#kelimeler tokenlere dönüşüyor\n",
    "x_train_ = sequence.pad_sequences(tokenizer.texts_to_sequences(X_train), maxlen=maxlen,padding='post') \n",
    "x_test_ = sequence.pad_sequences(tokenizer.texts_to_sequences(X_test), maxlen=maxlen,padding='post')"
   ]
  },
  {
   "cell_type": "code",
   "execution_count": null,
   "metadata": {
    "execution": {
     "iopub.execute_input": "2021-11-11T06:57:01.995677Z",
     "iopub.status.busy": "2021-11-11T06:57:01.995397Z",
     "iopub.status.idle": "2021-11-11T06:57:02.458826Z",
     "shell.execute_reply": "2021-11-11T06:57:02.458014Z",
     "shell.execute_reply.started": "2021-11-11T06:57:01.995636Z"
    }
   },
   "outputs": [],
   "source": [
    "def base_model():\n",
    "    #max_features = 10000\n",
    "    #maxlen = 100\n",
    "    #sgd = tensorflow.keras.optimizers.Adam()\n",
    "    sgd = tensorflow.keras.optimizers.Adam(learning_rate=0.001)\n",
    "    embed_size = 32\n",
    "    \n",
    "    inp = Input(shape=(maxlen, ))\n",
    "    \n",
    "    #word_vectors = KeyedVectors.load_word2vec_format('../input/wordvec/trmodel', binary=True)        \n",
    "\n",
    "    #weights = word_vectors.vectors\n",
    "\n",
    "    \n",
    "    \n",
    "    x = Embedding(max_features, embed_size)(inp)\n",
    "    \n",
    "    #x = Embedding(max_features,word_vectors,trainble = False)(inp)\n",
    "    \n",
    "    \n",
    "    \n",
    "    x = Bidirectional(LSTM(25, return_sequences=True))(x)\n",
    "    x = GlobalMaxPool1D()(x)\n",
    "    #x = Dropout(0.3)(x)\n",
    "    \n",
    "    x = Dense(512,activation = 'relu',kernel_regularizer=regularizers.l1_l2(l1=1e-5, l2=1e-4),bias_regularizer=regularizers.l2(1e-4),activity_regularizer=regularizers.l2(1e-5))(x)\n",
    "    x = Dropout(0.5)(x)\n",
    "    x = BatchNormalization()(x)\n",
    "    x = Dense(num_of_classes, activation=\"softmax\",kernel_regularizer=regularizers.l1_l2(l1=1e-5, l2=1e-4),bias_regularizer=regularizers.l2(1e-4),activity_regularizer=regularizers.l2(1e-5))(x)\n",
    "    model = Model(inputs=inp, outputs=x)\n",
    "    model.compile(loss='categorical_crossentropy',\n",
    "                    optimizer=sgd,\n",
    "                    metrics=['accuracy'])\n",
    "    return model\n",
    "model = base_model()"
   ]
  },
  {
   "cell_type": "code",
   "execution_count": null,
   "metadata": {
    "execution": {
     "iopub.execute_input": "2021-11-11T06:57:07.886117Z",
     "iopub.status.busy": "2021-11-11T06:57:07.885841Z",
     "iopub.status.idle": "2021-11-11T06:58:35.694657Z",
     "shell.execute_reply": "2021-11-11T06:58:35.693902Z",
     "shell.execute_reply.started": "2021-11-11T06:57:07.886084Z"
    }
   },
   "outputs": [],
   "source": [
    "model = base_model()\n",
    "model.fit(x_train_,y_train,batch_size = 16,epochs = 10,validation_split=0.05)"
   ]
  },
  {
   "cell_type": "code",
   "execution_count": null,
   "metadata": {
    "execution": {
     "iopub.execute_input": "2021-11-11T07:02:29.64208Z",
     "iopub.status.busy": "2021-11-11T07:02:29.641795Z",
     "iopub.status.idle": "2021-11-11T07:02:30.607847Z",
     "shell.execute_reply": "2021-11-11T07:02:30.607102Z",
     "shell.execute_reply.started": "2021-11-11T07:02:29.642032Z"
    }
   },
   "outputs": [],
   "source": [
    "y_pred = model.predict(x_test_)\n",
    "y_pred_ = np.argmax(y_pred, axis=1)"
   ]
  },
  {
   "cell_type": "code",
   "execution_count": null,
   "metadata": {
    "execution": {
     "iopub.execute_input": "2021-11-11T07:08:05.711766Z",
     "iopub.status.busy": "2021-11-11T07:08:05.711232Z",
     "iopub.status.idle": "2021-11-11T07:08:05.731777Z",
     "shell.execute_reply": "2021-11-11T07:08:05.731079Z",
     "shell.execute_reply.started": "2021-11-11T07:08:05.711729Z"
    }
   },
   "outputs": [],
   "source": [
    "target_names = ['Field Service-Diğer', 'Banking Applications & Software-Finsoft',\n",
    "       'Field Service-Printer', 'Banking Applications & Software-BOSS',\n",
    "       'Field Service-Software', 'Field Service-XNext',\n",
    "       'Field Service-FINSOFT', 'Banking Applications & Software-xNext',\n",
    "       'Field Service-PC', 'request-account locked',\n",
    "       'Software-Operating System']\n",
    "print('Confusion Matrix')\n",
    "print(confusion_matrix(np.argmax(y_test,axis = 1), y_pred_))\n",
    "print('Classification Report')\n",
    "\n",
    "print(classification_report(np.argmax(y_test,axis = 1), y_pred_, target_names=target_names))\n",
    "\n",
    "\n",
    "\n",
    "\n",
    "\n"
   ]
  },
  {
   "cell_type": "code",
   "execution_count": null,
   "metadata": {
    "execution": {
     "iopub.execute_input": "2021-11-11T07:06:43.373321Z",
     "iopub.status.busy": "2021-11-11T07:06:43.372514Z",
     "iopub.status.idle": "2021-11-11T07:06:43.38103Z",
     "shell.execute_reply": "2021-11-11T07:06:43.380111Z",
     "shell.execute_reply.started": "2021-11-11T07:06:43.373283Z"
    }
   },
   "outputs": [],
   "source": [
    "y_test"
   ]
  },
  {
   "cell_type": "code",
   "execution_count": null,
   "metadata": {},
   "outputs": [],
   "source": []
  }
 ],
 "metadata": {
  "kernelspec": {
   "display_name": "Python 3",
   "language": "python",
   "name": "python3"
  },
  "language_info": {
   "codemirror_mode": {
    "name": "ipython",
    "version": 3
   },
   "file_extension": ".py",
   "mimetype": "text/x-python",
   "name": "python",
   "nbconvert_exporter": "python",
   "pygments_lexer": "ipython3",
   "version": "3.7.4"
  }
 },
 "nbformat": 4,
 "nbformat_minor": 4
}
