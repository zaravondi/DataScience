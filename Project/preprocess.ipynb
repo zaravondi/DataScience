{
 "cells": [
  {
   "cell_type": "code",
   "execution_count": 1,
   "metadata": {},
   "outputs": [
    {
     "name": "stdout",
     "output_type": "stream",
     "text": [
      "-f\n"
     ]
    },
    {
     "name": "stderr",
     "output_type": "stream",
     "text": [
      "/Applications/anaconda3/lib/python3.7/site-packages/gensim/similarities/__init__.py:15: UserWarning: The gensim.similarities.levenshtein submodule is disabled, because the optional Levenshtein package <https://pypi.org/project/python-Levenshtein/> is unavailable. Install Levenhstein (e.g. `pip install python-Levenshtein`) to suppress this warning.\n",
      "  warnings.warn(msg)\n"
     ]
    }
   ],
   "source": [
    "import torch\n",
    "import torch.nn as nn\n",
    "import pandas as pd\n",
    "import numpy as np\n",
    "import pickle\n",
    "import re\n",
    "from lemmatizer import findPos\n",
    "from gensim.models import KeyedVectors\n",
    "import gensim\n",
    "import turkishnlp\n",
    "from turkishnlp import detector\n",
    "from collections import Counter\n",
    "import matplotlib.pyplot as plt\n",
    "import sklearn\n",
    "from sklearn.feature_extraction.text import TfidfVectorizer\n",
    "import sys\n",
    "import os\n",
    "#from TurkishStemmer import TurkishStemmer\n",
    "\n",
    "#device = torch.device('cuda' if torch.cuda.is_available() else 'cpu')"
   ]
  },
  {
   "cell_type": "code",
   "execution_count": 27,
   "metadata": {},
   "outputs": [],
   "source": [
    "data = pd.read_excel(\"incident son 6 aylk_son2.xlsx\")\n",
    "#data = pd.read_excel(\"incident son 6 aylk.xlsx\")\n",
    "#data=data.apply(lambda x: x.fillna(''),axis=0)\n",
    "data = data[['Description','Category','Subcategory']]\n",
    "data['Category_Last'] =   data['Category']+'-'+data['Subcategory']"
   ]
  },
  {
   "cell_type": "code",
   "execution_count": 28,
   "metadata": {},
   "outputs": [],
   "source": [
    "#belirli bir thresholdun aşağısında örnek varsa siliniyor\n",
    "a = {i:sum(data['Category_Last'] == i) for i in (data['Category_Last'].unique())} \n",
    "threshold = 50\n",
    "drops = [x  for x in a if a[x] < threshold ]\n",
    "multi_  = [data.loc[data['Category_Last'] == idx].index.values.tolist() for idx in drops]\n",
    "single_ = [val for inner in multi_ for val in inner]\n",
    "data = data.drop(single_)\n",
    "data = data.dropna()\n",
    "data.reset_index(drop=True, inplace=True)"
   ]
  },
  {
   "cell_type": "code",
   "execution_count": 29,
   "metadata": {},
   "outputs": [
    {
     "data": {
      "text/plain": [
       "(23,)"
      ]
     },
     "execution_count": 29,
     "metadata": {},
     "output_type": "execute_result"
    }
   ],
   "source": [
    "data['Category_Last'].unique().shape"
   ]
  },
  {
   "cell_type": "code",
   "execution_count": 30,
   "metadata": {},
   "outputs": [],
   "source": [
    "categorys = data['Category_Last'].unique() \n",
    "numbers = [data[data['Category_Last'] == x].shape[0] for x in categorys]\n",
    "dict_category = { x:y for x,y in zip(categorys,numbers) }"
   ]
  },
  {
   "cell_type": "code",
   "execution_count": 31,
   "metadata": {},
   "outputs": [],
   "source": [
    "def remove_same(strr): #acillll kelimesi acil'e dönüştürmek için\n",
    "    word = ''\n",
    "    for i in range(len(strr)-1,0,-1):\n",
    "        j = i-1\n",
    "        if strr[i] != strr[j]:\n",
    "            word += strr[i]\n",
    "        if j == 0 and strr[0] != strr[1]:\n",
    "            word+=strr[0]\n",
    "    return word[::-1]\n",
    "        "
   ]
  },
  {
   "cell_type": "code",
   "execution_count": 32,
   "metadata": {},
   "outputs": [],
   "source": [
    "with open('corrector.txt',encoding=\"utf-8\") as f:  #kelimeler dict'e dönüştürüldü\n",
    "    lines = f.readlines()\n",
    "    vocab = {line.split(',')[0]:line.split(',')[1].split('\\n')[0]  for line in  lines }"
   ]
  },
  {
   "cell_type": "code",
   "execution_count": 33,
   "metadata": {},
   "outputs": [],
   "source": [
    "def convert_partially_tr(strr):\n",
    "    strr = strr.replace('i','ı')\n",
    "    strr = strr.replace('ğ','g')\n",
    "    strr = strr.replace('ö','o')\n",
    "    strr = strr.replace('ü','u')\n",
    "    strr = strr.replace('ş','s')\n",
    "    strr = strr.replace('ç','c')\n",
    "    return strr"
   ]
  },
  {
   "cell_type": "code",
   "execution_count": 34,
   "metadata": {},
   "outputs": [],
   "source": [
    "#stemmer = TurkishStemmer()\n",
    "obj = detector.TurkishNLP() #türkçe bazı kelimelerin düzeltilmesi için\n",
    "#obj.download()\n",
    "obj.create_word_set()\n",
    "old_stdout = sys.stdout \n",
    "sys.stdout = open(os.devnull, \"w\")\n",
    "def utils_preprocess_text(text,flg_lemma = True ,flg_stemm = False, lst_stopwords=None,revisedDict = None):\n",
    "    text = re.sub(r'[^\\w\\s]', '', str(text).lower().strip())\n",
    "    text = re.sub('[0-9]+', '', text)\n",
    "    text = re.sub('_','',text)\n",
    "    lst_text = text.split()    \n",
    "    \n",
    "    if lst_stopwords is not None: \n",
    "        lst_text = [word for word in lst_text if word not in lst_stopwords] #stopwordler çıkarıldı\n",
    "    \n",
    "    \n",
    "    lst_text = [remove_same(word) for word in lst_text]   #acillll gibi kelimeleri acil kelimesine döndürüldü\n",
    "    lst_text = [vocab[word] if word in vocab else word for word in lst_text ] #corrector içerisinde bulunan düzeltilmesi gereken bir kelime ise düzeltildi.\n",
    "\n",
    "    try:\n",
    "\n",
    "        if flg_stemm == True:\n",
    "            lst_text = [stemmer.stem(obj.auto_correct([word.lower()])[0]) if word!= '' and obj.is_turkish(word) else word for word in lst_text]\n",
    "            #stemming kısmı\n",
    "\n",
    "            \n",
    "        if flg_lemma == True:\n",
    "            lst_text = [findPos(obj.auto_correct([word.lower()])[0], revisedDict)[0][0].split('_')[0] if word!= '' and obj.is_turkish(word) else word for word in lst_text]\n",
    "        lst_text = [convert_partially_tr(word) for word in lst_text]#acil acıl açil gibi kelimeleri aynı kelimeye dönüştürmek için\n",
    "        lst_text = [remove_same(word) for word in lst_text] \n",
    "        text = \" \".join(lst_text) \n",
    "        return text\n",
    "    \n",
    "    except:\n",
    "        print(lst_text)\n",
    "        raise Exception\n",
    "    \n",
    "def textCleaner(df = None , src = 'content' ,dst = 'text_clean',stop_words = 'turkish',revised_dict_path = 'revisedDict.pkl'):\n",
    "\n",
    "\n",
    "    try:\n",
    "        with open('revisedDict.pkl', 'rb') as f:\n",
    "            revisedDict = pickle.load(f)#lemmatization icin gerekli\n",
    "    except IOError:\n",
    "        print(\"Please run trainLexicon.py to generate revisedDict.pkl file\")\n",
    "    df[dst] = df[src].apply(lambda x: \n",
    "          utils_preprocess_text(x, \n",
    "          lst_stopwords=stop_words,revisedDict = revisedDict))\n",
    "with open(\"turkish_stop_words.txt\", 'r', encoding = 'utf-8') as fdict:\n",
    "    tr_stp_wrds = []\n",
    "    for line in fdict:\n",
    "        \n",
    "        word = line.strip()#.split()[0]\n",
    "        tr_stp_wrds.append(word)\n",
    "\n",
    "textCleaner(df = data,stop_words = tr_stp_wrds,src = 'Description')\n",
    "#data.drop(\"Description\", inplace = True, axis = 1) \n",
    "data.drop(\"Category\", inplace = True, axis = 1) \n",
    "data.drop(\"Subcategory\", inplace = True, axis = 1) \n",
    "data.reset_index(drop = True, inplace = True)\n",
    "sys.stdout = old_stdout"
   ]
  },
  {
   "cell_type": "code",
   "execution_count": 35,
   "metadata": {},
   "outputs": [],
   "source": [
    "def pre_process(dataset):  #string olan labelları sayıya çeviriyor.\n",
    "    \n",
    "    for col in dataset.columns:\n",
    "        unique_things = dataset[col].unique()\n",
    "        if col == 'Category_Last':\n",
    "            if isinstance(unique_things[0],str):     \n",
    "                limit = len(unique_things)\n",
    "                for i in range(limit):\n",
    "                    dataset[col] = dataset[col].replace({unique_things[i]:i})\n",
    "                dataset[col] = dataset[col].astype(int)  \n",
    "pre_process(data)\n",
    "data.to_csv('data_processed_son.csv', index=False)"
   ]
  },
  {
   "cell_type": "code",
   "execution_count": 14,
   "metadata": {},
   "outputs": [
    {
     "data": {
      "text/plain": [
       "0        ar elektrık elektromekanık ın ta san tıc fırma...\n",
       "1                                      referans ıs al yapı\n",
       "2                                                   mevcut\n",
       "3                     fınsoft ekran gırıs ek hatay al konu\n",
       "4             sql baglantı kuram ayal problem dusun mehmet\n",
       "                               ...                        \n",
       "15450                                           ekran ayar\n",
       "15451                                              pasword\n",
       "15452    ekran boz hıc bır sorun yok ekrn guvenlıgı ıcı...\n",
       "15453                                  sıstem tarayıcı gor\n",
       "15454                                  dekont yazıcı arıza\n",
       "Name: text_clean, Length: 15455, dtype: object"
      ]
     },
     "execution_count": 14,
     "metadata": {},
     "output_type": "execute_result"
    }
   ],
   "source": [
    "data['text_clean']"
   ]
  },
  {
   "cell_type": "code",
   "execution_count": 36,
   "metadata": {},
   "outputs": [
    {
     "name": "stdout",
     "output_type": "stream",
     "text": [
      "1\n"
     ]
    }
   ],
   "source": [
    "maxx = 1000\n",
    "index = 0\n",
    "for i,txt in enumerate(data['text_clean']):\n",
    "    if len(txt.split()) < maxx and len(txt.split()) != 0: \n",
    "        maxx = len(txt.split())\n",
    "        index = i\n",
    "        \n",
    "print(maxx)"
   ]
  },
  {
   "cell_type": "code",
   "execution_count": 25,
   "metadata": {},
   "outputs": [
    {
     "data": {
      "text/plain": [
       "'mevcut'"
      ]
     },
     "execution_count": 25,
     "metadata": {},
     "output_type": "execute_result"
    }
   ],
   "source": [
    "data['text_clean'][index]"
   ]
  },
  {
   "cell_type": "code",
   "execution_count": 37,
   "metadata": {},
   "outputs": [
    {
     "data": {
      "text/plain": [
       "'merhaba ekte mail mevcuttur.'"
      ]
     },
     "execution_count": 37,
     "metadata": {},
     "output_type": "execute_result"
    }
   ],
   "source": [
    "data['Description'][index]"
   ]
  },
  {
   "cell_type": "code",
   "execution_count": 35,
   "metadata": {},
   "outputs": [],
   "source": [
    "def plot_pie(y):\n",
    "    target_stats = Counter(y)\n",
    "    labels = list(target_stats.keys())\n",
    "    sizes = list(target_stats.values())\n",
    "    explode = tuple([0.1] * len(target_stats))\n",
    "    print(explode)\n",
    "    def make_autopct(values):\n",
    "        def my_autopct(pct):\n",
    "            total = sum(values)\n",
    "            val = int(round(pct * total / 100.0))\n",
    "            return '{p:.2f}%  ({v:d})'.format(p=pct, v=val)\n",
    "        return my_autopct\n",
    "\n",
    "    fig, ax = plt.subplots()\n",
    "    ax.pie(sizes, explode=explode, labels=labels, shadow=True,\n",
    "           autopct=make_autopct(sizes))\n",
    "    ax.axis('equal')\n"
   ]
  },
  {
   "cell_type": "code",
   "execution_count": 36,
   "metadata": {},
   "outputs": [
    {
     "name": "stdout",
     "output_type": "stream",
     "text": [
      "(0.1, 0.1, 0.1, 0.1, 0.1, 0.1, 0.1, 0.1, 0.1, 0.1, 0.1, 0.1, 0.1, 0.1, 0.1, 0.1, 0.1, 0.1, 0.1, 0.1, 0.1, 0.1, 0.1)\n"
     ]
    },
    {
     "data": {
      "image/png": "[encoded data removed]",
      "text/plain": [
       "<Figure size 432x288 with 1 Axes>"
      ]
     },
     "metadata": {},
     "output_type": "display_data"
    }
   ],
   "source": [
    "plot_pie(np.array(data['Category_Last']))"
   ]
  },
  {
   "cell_type": "code",
   "execution_count": 85,
   "metadata": {},
   "outputs": [
    {
     "data": {
      "text/plain": [
       "array([ 0,  1,  2,  3,  4,  5,  6,  7,  8,  9, 10, 11, 12, 13, 14, 15, 16,\n",
       "       17, 18, 19, 20, 21, 22, 23, 24, 25])"
      ]
     },
     "execution_count": 85,
     "metadata": {},
     "output_type": "execute_result"
    }
   ],
   "source": [
    "data['Category_Last'].unique()"
   ]
  },
  {
   "cell_type": "code",
   "execution_count": 28,
   "metadata": {},
   "outputs": [
    {
     "data": {
      "text/plain": [
       "array(['Banking Applications & Software-FINSOFT',\n",
       "       'Banking Applications & Software-BOSS',\n",
       "       'Banking Applications & Software-XNext',\n",
       "       'Banking Applications & Software-Head Office Application',\n",
       "       'Banking Applications & Software-Boss',\n",
       "       'Banking Applications & Software-TCR (Teller Cash Recycler)',\n",
       "       'Field Service-PC', 'Field Service-Skype for Business',\n",
       "       'Field Service-Scanner', 'Field Service-MobileIron',\n",
       "       'Field Service-Diğer', 'Field Service-Printer',\n",
       "       'Field Service-I-Matic', 'Field Service-IngKey',\n",
       "       'Field Service-Pulse Secure', 'Field Service-Glif',\n",
       "       'Field Service-Email', 'Field Service-Vmware Harizon (Sanal PC)',\n",
       "       'Field Service-Software', 'Field Service-Atm',\n",
       "       'Field Service-Cisco Anyconnect', 'Field Service-Neoway',\n",
       "       'Field Service-Tablet'], dtype=object)"
      ]
     },
     "execution_count": 28,
     "metadata": {},
     "output_type": "execute_result"
    }
   ],
   "source": [
    "data['Category_Last'].unique()"
   ]
  },
  {
   "cell_type": "code",
   "execution_count": null,
   "metadata": {},
   "outputs": [],
   "source": []
  }
 ],
 "metadata": {
  "kernelspec": {
   "display_name": "Python 3",
   "language": "python",
   "name": "python3"
  },
  "language_info": {
   "codemirror_mode": {
    "name": "ipython",
    "version": 3
   },
   "file_extension": ".py",
   "mimetype": "text/x-python",
   "name": "python",
   "nbconvert_exporter": "python",
   "pygments_lexer": "ipython3",
   "version": "3.7.4"
  }
 },
 "nbformat": 4,
 "nbformat_minor": 5
}
